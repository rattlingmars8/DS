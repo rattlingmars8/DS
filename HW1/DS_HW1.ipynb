{
  "nbformat": 4,
  "nbformat_minor": 0,
  "metadata": {
    "colab": {
      "provenance": []
    },
    "kernelspec": {
      "name": "python3",
      "display_name": "Python 3"
    },
    "language_info": {
      "name": "python"
    }
  },
  "cells": [
    {
      "cell_type": "code",
      "execution_count": 2,
      "metadata": {
        "id": "lfFs3E5vxvgD"
      },
      "outputs": [],
      "source": [
        "import numpy as np"
      ]
    },
    {
      "cell_type": "code",
      "source": [
        "v = np.arange(1, 11)\n",
        "print(v)"
      ],
      "metadata": {
        "colab": {
          "base_uri": "https://localhost:8080/"
        },
        "id": "uAM5c-Way_1n",
        "outputId": "ad5f33d7-054a-4118-d930-05c99993d02d"
      },
      "execution_count": 8,
      "outputs": [
        {
          "output_type": "stream",
          "name": "stdout",
          "text": [
            "[ 1  2  3  4  5  6  7  8  9 10]\n"
          ]
        }
      ]
    },
    {
      "cell_type": "code",
      "source": [
        "mx = np.zeros((3, 3))\n",
        "print(mx)"
      ],
      "metadata": {
        "colab": {
          "base_uri": "https://localhost:8080/"
        },
        "id": "Q5ntSK5ezX7X",
        "outputId": "42b4a21c-e97b-45b8-e56c-cf0cedc558ae"
      },
      "execution_count": 4,
      "outputs": [
        {
          "output_type": "stream",
          "name": "stdout",
          "text": [
            "[[0. 0. 0.]\n",
            " [0. 0. 0.]\n",
            " [0. 0. 0.]]\n"
          ]
        }
      ]
    },
    {
      "cell_type": "code",
      "source": [
        "mxr = np.random.randint(1, 11, size=(5, 5))\n",
        "print(mxr)"
      ],
      "metadata": {
        "colab": {
          "base_uri": "https://localhost:8080/"
        },
        "id": "0C2jZHQQ0OL9",
        "outputId": "018e9df5-b241-4a4a-d380-425d3d64db68"
      },
      "execution_count": 5,
      "outputs": [
        {
          "output_type": "stream",
          "name": "stdout",
          "text": [
            "[[ 8 10  8 10  4]\n",
            " [ 7  4  1  2  3]\n",
            " [ 3 10  7  5  7]\n",
            " [ 4  8 10  3  6]\n",
            " [ 3  3  1  7  4]]\n"
          ]
        }
      ]
    },
    {
      "cell_type": "code",
      "source": [
        "mxr = np.random.rand(4, 4)\n",
        "print(mxr)"
      ],
      "metadata": {
        "colab": {
          "base_uri": "https://localhost:8080/"
        },
        "id": "SJ51R_S20jg9",
        "outputId": "46a2aebb-f77c-47b1-e271-a01ade99af59"
      },
      "execution_count": 7,
      "outputs": [
        {
          "output_type": "stream",
          "name": "stdout",
          "text": [
            "[[0.05342774 0.04813241 0.3770493  0.68700984]\n",
            " [0.56324392 0.6933675  0.92849092 0.0166773 ]\n",
            " [0.33731627 0.88456655 0.06356033 0.95002905]\n",
            " [0.94422467 0.45939032 0.36122575 0.90656696]]\n"
          ]
        }
      ]
    },
    {
      "cell_type": "code",
      "source": [
        "v1 = np.random.randint(1, 11, size=5)\n",
        "v2 = np.random.randint(1, 11, size=5)\n",
        "\n",
        "print(f'V1: {v1}\\nV2: {v2}')\n",
        "\n",
        "print(v1 + v2)\n",
        "print(v1 - v2)\n",
        "print(v1 * v2)"
      ],
      "metadata": {
        "colab": {
          "base_uri": "https://localhost:8080/"
        },
        "id": "5OpIiHBb1FK5",
        "outputId": "77d6926b-30eb-4f9b-a0ab-645e5e764859"
      },
      "execution_count": 12,
      "outputs": [
        {
          "output_type": "stream",
          "name": "stdout",
          "text": [
            "V1: [7 1 5 4 6]\n",
            "V2: [ 9  8  7 10  7]\n",
            "[16  9 12 14 13]\n",
            "[-2 -7 -2 -6 -1]\n",
            "[63  8 35 40 42]\n"
          ]
        }
      ]
    },
    {
      "cell_type": "code",
      "source": [
        "v1 = np.random.randint(1, 11, size=7)\n",
        "v2 = np.random.randint(1, 11, size=7)\n",
        "print(f'V1: {v1}\\nV2: {v2}')\n",
        "print(\"Скалярний добуток:\", np.dot(v1, v2))"
      ],
      "metadata": {
        "colab": {
          "base_uri": "https://localhost:8080/"
        },
        "id": "2Or0kz-J2L3h",
        "outputId": "c266fbec-ee25-45fb-d7ba-8e77714e7e32"
      },
      "execution_count": 15,
      "outputs": [
        {
          "output_type": "stream",
          "name": "stdout",
          "text": [
            "V1: [7 5 4 6 6 2 4]\n",
            "V2: [ 8  7 10  4 10  3  2]\n",
            "Скалярний добуток: 229\n"
          ]
        }
      ]
    },
    {
      "cell_type": "code",
      "source": [
        "mx1 = np.random.randint(1, 11, size=(2, 2))\n",
        "mx2 = np.random.randint(1, 11, size=(2, 3))\n",
        "\n",
        "print(f\"Результат перемноження двох матриць:\\n{np.dot(mx1, mx2)}\")"
      ],
      "metadata": {
        "colab": {
          "base_uri": "https://localhost:8080/"
        },
        "id": "UwkV0MGa2vZR",
        "outputId": "72562015-41f1-4cc3-c77b-2575157e45e9"
      },
      "execution_count": 18,
      "outputs": [
        {
          "output_type": "stream",
          "name": "stdout",
          "text": [
            "Результат перемноження двох матриць:\n",
            "[[ 39  81  21]\n",
            " [ 39 113  24]]\n"
          ]
        }
      ]
    },
    {
      "cell_type": "code",
      "source": [
        "mx = np.random.randint(1, 11, size=(3, 3))\n",
        "print(mx)\n",
        "print(np.linalg.inv(mx))"
      ],
      "metadata": {
        "colab": {
          "base_uri": "https://localhost:8080/"
        },
        "id": "GteaHDcG3uAP",
        "outputId": "fc37545c-3f5d-42a5-8c83-a5d397e00ddf"
      },
      "execution_count": 21,
      "outputs": [
        {
          "output_type": "stream",
          "name": "stdout",
          "text": [
            "[[ 8  9  3]\n",
            " [ 1  6 10]\n",
            " [ 1  3  9]]\n",
            "[[ 0.125      -0.375       0.375     ]\n",
            " [ 0.00520833  0.359375   -0.40104167]\n",
            " [-0.015625   -0.078125    0.203125  ]]\n"
          ]
        }
      ]
    },
    {
      "cell_type": "code",
      "source": [
        "mx = np.random.rand(4, 4)\n",
        "print(mx)\n",
        "print(mx.T)"
      ],
      "metadata": {
        "colab": {
          "base_uri": "https://localhost:8080/"
        },
        "id": "1hTqnq0B4RB4",
        "outputId": "db7e48ca-e0e9-4e5d-b45a-0e9e67336c51"
      },
      "execution_count": 23,
      "outputs": [
        {
          "output_type": "stream",
          "name": "stdout",
          "text": [
            "[[0.66015467 0.49539098 0.84248805 0.68693939]\n",
            " [0.86436062 0.69389171 0.20840295 0.78732381]\n",
            " [0.73873257 0.15407282 0.01720302 0.09177894]\n",
            " [0.72711328 0.76405445 0.29576892 0.85174034]]\n",
            "[[0.66015467 0.86436062 0.73873257 0.72711328]\n",
            " [0.49539098 0.69389171 0.15407282 0.76405445]\n",
            " [0.84248805 0.20840295 0.01720302 0.29576892]\n",
            " [0.68693939 0.78732381 0.09177894 0.85174034]]\n"
          ]
        }
      ]
    },
    {
      "cell_type": "code",
      "source": [
        "mx = np.random.randint(1, 11, size=(3, 4))\n",
        "v = np.random.randint(1, 11, size=(4, ))\n",
        "print(np.dot(mx, v))"
      ],
      "metadata": {
        "colab": {
          "base_uri": "https://localhost:8080/"
        },
        "id": "K3YxbtSW4pVp",
        "outputId": "63fb2548-b8cc-4368-82e7-811f273ee21a"
      },
      "execution_count": 27,
      "outputs": [
        {
          "output_type": "stream",
          "name": "stdout",
          "text": [
            "[111 102 122]\n"
          ]
        }
      ]
    },
    {
      "cell_type": "code",
      "source": [
        "mx = np.random.rand(2, 3)\n",
        "v = np.random.rand(3)\n",
        "print(np.dot(mx, v))"
      ],
      "metadata": {
        "colab": {
          "base_uri": "https://localhost:8080/"
        },
        "id": "jNcBDbKs5Zo8",
        "outputId": "be617577-d6d8-4216-c8fe-920957ea995b"
      },
      "execution_count": 26,
      "outputs": [
        {
          "output_type": "stream",
          "name": "stdout",
          "text": [
            "[1.0427024  0.53202684]\n"
          ]
        }
      ]
    },
    {
      "cell_type": "code",
      "source": [
        "mx1 = np.random.randint(1, 11, size=(2, 2))\n",
        "mx2 = np.random.randint(1, 11, size=(2, 2))\n",
        "print(mx1*mx2)"
      ],
      "metadata": {
        "colab": {
          "base_uri": "https://localhost:8080/"
        },
        "id": "NZLiwzG86Ax3",
        "outputId": "eec18341-fd01-4b1a-dac6-55fe14f21982"
      },
      "execution_count": 29,
      "outputs": [
        {
          "output_type": "stream",
          "name": "stdout",
          "text": [
            "[[18  8]\n",
            " [60 12]]\n"
          ]
        }
      ]
    },
    {
      "cell_type": "code",
      "source": [
        "mx1 = np.random.randint(1, 11, size=(2, 2))\n",
        "mx2 = np.random.randint(1, 11, size=(2, 2))\n",
        "print(np.dot(mx1, mx2))"
      ],
      "metadata": {
        "colab": {
          "base_uri": "https://localhost:8080/"
        },
        "id": "99LSlxFv6TpE",
        "outputId": "9a8eb1f3-9388-4bbd-e7c7-e21d078f47ac"
      },
      "execution_count": 31,
      "outputs": [
        {
          "output_type": "stream",
          "name": "stdout",
          "text": [
            "[[ 59  40]\n",
            " [106  82]]\n"
          ]
        }
      ]
    },
    {
      "cell_type": "code",
      "source": [
        "mx = np.random.randint(1, 101, size=(5, 5))\n",
        "print(np.sum(mx))"
      ],
      "metadata": {
        "colab": {
          "base_uri": "https://localhost:8080/"
        },
        "id": "rtdTdmna6pa_",
        "outputId": "edb7b539-be83-42e8-9b14-0efd1ecfa2f2"
      },
      "execution_count": 33,
      "outputs": [
        {
          "output_type": "stream",
          "name": "stdout",
          "text": [
            "1023\n"
          ]
        }
      ]
    },
    {
      "cell_type": "code",
      "source": [
        "mx1 = np.random.randint(1, 11, size=(4, 4))\n",
        "mx2 = np.random.randint(1, 11, size=(4, 4))\n",
        "print(mx2-mx1)"
      ],
      "metadata": {
        "colab": {
          "base_uri": "https://localhost:8080/"
        },
        "id": "D0nojXzj68Pr",
        "outputId": "b0d9680a-c787-4750-8b38-6f4d4ef7d5e7"
      },
      "execution_count": 35,
      "outputs": [
        {
          "output_type": "stream",
          "name": "stdout",
          "text": [
            "[[ 3  0 -1  1]\n",
            " [-6  6  4 -4]\n",
            " [ 1  3  3 -2]\n",
            " [ 8 -5 -2 -4]]\n"
          ]
        }
      ]
    },
    {
      "cell_type": "code",
      "source": [
        "mx = np.random.rand(3, 3)\n",
        "row_sums = np.sum(mx, axis=1, keepdims=True)\n",
        "print(row_sums)"
      ],
      "metadata": {
        "colab": {
          "base_uri": "https://localhost:8080/"
        },
        "id": "7jjOU7Kv7K_6",
        "outputId": "84cf535e-5f00-4cd2-cba1-9de4864e669e"
      },
      "execution_count": 37,
      "outputs": [
        {
          "output_type": "stream",
          "name": "stdout",
          "text": [
            "\n",
            "Вектор-стовпчик із сумами рядків матриці:\n",
            "[[2.54228322]\n",
            " [1.74809948]\n",
            " [1.7737126 ]]\n"
          ]
        }
      ]
    },
    {
      "cell_type": "code",
      "source": [
        "mx = np.random.randint(1, 11, size=(3, 4))\n",
        "print(mx**2)"
      ],
      "metadata": {
        "colab": {
          "base_uri": "https://localhost:8080/"
        },
        "id": "2KW31r7o772r",
        "outputId": "253210bf-9c02-4b05-bb28-0f51a650c912"
      },
      "execution_count": 38,
      "outputs": [
        {
          "output_type": "stream",
          "name": "stdout",
          "text": [
            "[[ 25   4  64  49]\n",
            " [ 25  25  36  64]\n",
            " [100   9  25   1]]\n"
          ]
        }
      ]
    },
    {
      "cell_type": "code",
      "source": [
        "v = np.random.randint(1, 51, size=(4, ))\n",
        "print(np.sqrt(v))"
      ],
      "metadata": {
        "colab": {
          "base_uri": "https://localhost:8080/"
        },
        "id": "F-V466dj8Rly",
        "outputId": "9dedf9fa-dcdf-4636-e71d-6a227a1b7fe3"
      },
      "execution_count": 39,
      "outputs": [
        {
          "output_type": "stream",
          "name": "stdout",
          "text": [
            "[4.89897949 3.31662479 4.79583152 6.55743852]\n"
          ]
        }
      ]
    }
  ]
}