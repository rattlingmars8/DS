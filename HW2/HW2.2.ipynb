{
 "cells": [
  {
   "cell_type": "code",
   "execution_count": 3,
   "outputs": [
    {
     "data": {
      "text/plain": "   N                 Должность Язык.программирования Специализация  \\\n0  1        Junior QA engineer                   NaN     Manual QA   \n1  2        Junior QA engineer                   NaN     Manual QA   \n2  3         Software Engineer               C#/.NET           NaN   \n3  4         Software Engineer            JavaScript           NaN   \n4  5  Senior Software Engineer            JavaScript           NaN   \n\n  Общий.опыт.работы Опыт.работы.на.текущем.месте  Зарплата.в.месяц  \\\n0               0.5                          0.5               400   \n1  меньше 3 месяцев             меньше 3 месяцев               430   \n2                 4                            1              2500   \n3                 5                            4              2000   \n4    10 и более лет                          0.5              4500   \n\n   Изменение.зарплаты.за.12.месяцев    Город     Размер.компании  ...  \\\n0                                 0  Харьков       до 10 человек  ...   \n1                               130  Харьков  свыше 1000 человек  ...   \n2                               800     Киев     до 1000 человек  ...   \n3                               400   Одесса      до 200 человек  ...   \n4                               500   Другой       до 10 человек  ...   \n\n  Еще.студент Уровень.английского                    Предметная.область  \\\n0        True       ниже среднего                         iOS,eCommerce   \n1        True       выше среднего                        Веб-разработка   \n2       False             средний  Веб-разработка,Корпоративные системы   \n3       False       ниже среднего   Desktop Applications,Веб-разработка   \n4       False             средний   Desktop Applications,Веб-разработка   \n\n       Дата.заполнения                                         User.Agent  \\\n0  12/06/2017 12:38:08  Mozilla/5.0 (Windows NT 10.0; Win64; x64) Appl...   \n1  12/06/2017 12:42:51  Mozilla/5.0 (iPad; CPU OS 10_2_1 like Mac OS X...   \n2  12/06/2017 13:02:47  Mozilla/5.0 (Windows NT 10.0; Win64; x64) Appl...   \n3  12/06/2017 13:03:01  Mozilla/5.0 (Windows NT 6.1; Win64; x64) Apple...   \n4  12/06/2017 13:03:47  Mozilla/5.0 (iPhone; CPU iPhone OS 10_3_2 like...   \n\n    exp current_job_exp salary Валюта  cls  \n0   0.5             0.5    400    NaN   QA  \n1   0.0             0.0    430    NaN   QA  \n2   4.0             1.0   2500    NaN  DEV  \n3   5.0             4.0   2000    NaN  DEV  \n4  10.0             0.5   4500    NaN  DEV  \n\n[5 rows x 25 columns]",
      "text/html": "<div>\n<style scoped>\n    .dataframe tbody tr th:only-of-type {\n        vertical-align: middle;\n    }\n\n    .dataframe tbody tr th {\n        vertical-align: top;\n    }\n\n    .dataframe thead th {\n        text-align: right;\n    }\n</style>\n<table border=\"1\" class=\"dataframe\">\n  <thead>\n    <tr style=\"text-align: right;\">\n      <th></th>\n      <th>N</th>\n      <th>Должность</th>\n      <th>Язык.программирования</th>\n      <th>Специализация</th>\n      <th>Общий.опыт.работы</th>\n      <th>Опыт.работы.на.текущем.месте</th>\n      <th>Зарплата.в.месяц</th>\n      <th>Изменение.зарплаты.за.12.месяцев</th>\n      <th>Город</th>\n      <th>Размер.компании</th>\n      <th>...</th>\n      <th>Еще.студент</th>\n      <th>Уровень.английского</th>\n      <th>Предметная.область</th>\n      <th>Дата.заполнения</th>\n      <th>User.Agent</th>\n      <th>exp</th>\n      <th>current_job_exp</th>\n      <th>salary</th>\n      <th>Валюта</th>\n      <th>cls</th>\n    </tr>\n  </thead>\n  <tbody>\n    <tr>\n      <th>0</th>\n      <td>1</td>\n      <td>Junior QA engineer</td>\n      <td>NaN</td>\n      <td>Manual QA</td>\n      <td>0.5</td>\n      <td>0.5</td>\n      <td>400</td>\n      <td>0</td>\n      <td>Харьков</td>\n      <td>до 10 человек</td>\n      <td>...</td>\n      <td>True</td>\n      <td>ниже среднего</td>\n      <td>iOS,eCommerce</td>\n      <td>12/06/2017 12:38:08</td>\n      <td>Mozilla/5.0 (Windows NT 10.0; Win64; x64) Appl...</td>\n      <td>0.5</td>\n      <td>0.5</td>\n      <td>400</td>\n      <td>NaN</td>\n      <td>QA</td>\n    </tr>\n    <tr>\n      <th>1</th>\n      <td>2</td>\n      <td>Junior QA engineer</td>\n      <td>NaN</td>\n      <td>Manual QA</td>\n      <td>меньше 3 месяцев</td>\n      <td>меньше 3 месяцев</td>\n      <td>430</td>\n      <td>130</td>\n      <td>Харьков</td>\n      <td>свыше 1000 человек</td>\n      <td>...</td>\n      <td>True</td>\n      <td>выше среднего</td>\n      <td>Веб-разработка</td>\n      <td>12/06/2017 12:42:51</td>\n      <td>Mozilla/5.0 (iPad; CPU OS 10_2_1 like Mac OS X...</td>\n      <td>0.0</td>\n      <td>0.0</td>\n      <td>430</td>\n      <td>NaN</td>\n      <td>QA</td>\n    </tr>\n    <tr>\n      <th>2</th>\n      <td>3</td>\n      <td>Software Engineer</td>\n      <td>C#/.NET</td>\n      <td>NaN</td>\n      <td>4</td>\n      <td>1</td>\n      <td>2500</td>\n      <td>800</td>\n      <td>Киев</td>\n      <td>до 1000 человек</td>\n      <td>...</td>\n      <td>False</td>\n      <td>средний</td>\n      <td>Веб-разработка,Корпоративные системы</td>\n      <td>12/06/2017 13:02:47</td>\n      <td>Mozilla/5.0 (Windows NT 10.0; Win64; x64) Appl...</td>\n      <td>4.0</td>\n      <td>1.0</td>\n      <td>2500</td>\n      <td>NaN</td>\n      <td>DEV</td>\n    </tr>\n    <tr>\n      <th>3</th>\n      <td>4</td>\n      <td>Software Engineer</td>\n      <td>JavaScript</td>\n      <td>NaN</td>\n      <td>5</td>\n      <td>4</td>\n      <td>2000</td>\n      <td>400</td>\n      <td>Одесса</td>\n      <td>до 200 человек</td>\n      <td>...</td>\n      <td>False</td>\n      <td>ниже среднего</td>\n      <td>Desktop Applications,Веб-разработка</td>\n      <td>12/06/2017 13:03:01</td>\n      <td>Mozilla/5.0 (Windows NT 6.1; Win64; x64) Apple...</td>\n      <td>5.0</td>\n      <td>4.0</td>\n      <td>2000</td>\n      <td>NaN</td>\n      <td>DEV</td>\n    </tr>\n    <tr>\n      <th>4</th>\n      <td>5</td>\n      <td>Senior Software Engineer</td>\n      <td>JavaScript</td>\n      <td>NaN</td>\n      <td>10 и более лет</td>\n      <td>0.5</td>\n      <td>4500</td>\n      <td>500</td>\n      <td>Другой</td>\n      <td>до 10 человек</td>\n      <td>...</td>\n      <td>False</td>\n      <td>средний</td>\n      <td>Desktop Applications,Веб-разработка</td>\n      <td>12/06/2017 13:03:47</td>\n      <td>Mozilla/5.0 (iPhone; CPU iPhone OS 10_3_2 like...</td>\n      <td>10.0</td>\n      <td>0.5</td>\n      <td>4500</td>\n      <td>NaN</td>\n      <td>DEV</td>\n    </tr>\n  </tbody>\n</table>\n<p>5 rows × 25 columns</p>\n</div>"
     },
     "execution_count": 3,
     "metadata": {},
     "output_type": "execute_result"
    }
   ],
   "source": [
    "import pandas as pd\n",
    "\n",
    "# Reading the CSV file\n",
    "data = pd.read_csv('2017_jun_final.csv')\n",
    "\n",
    "data.head()"
   ],
   "metadata": {
    "collapsed": false,
    "ExecuteTime": {
     "end_time": "2023-10-08T13:00:06.405101700Z",
     "start_time": "2023-10-08T13:00:06.316260300Z"
    }
   }
  },
  {
   "cell_type": "code",
   "execution_count": 17,
   "outputs": [
    {
     "data": {
      "text/plain": "(8704, 20)"
     },
     "execution_count": 17,
     "metadata": {},
     "output_type": "execute_result"
    }
   ],
   "source": [
    "data.shape"
   ],
   "metadata": {
    "collapsed": false,
    "ExecuteTime": {
     "end_time": "2023-10-08T13:38:08.523902800Z",
     "start_time": "2023-10-08T13:38:08.508883700Z"
    }
   }
  },
  {
   "cell_type": "code",
   "execution_count": null,
   "outputs": [],
   "source": [
    "data_dtypes = data.dtypes\n",
    "data_dtypes"
   ],
   "metadata": {
    "collapsed": false
   }
  },
  {
   "cell_type": "markdown",
   "source": [
    "4. Визначте типи всіх стовпців за допомогою dataframe.dtypes\n"
   ],
   "metadata": {
    "collapsed": false
   }
  },
  {
   "cell_type": "code",
   "execution_count": 6,
   "outputs": [
    {
     "data": {
      "text/plain": "N                                     int64\nДолжность                            object\nЯзык.программирования                object\nСпециализация                        object\nОбщий.опыт.работы                    object\nОпыт.работы.на.текущем.месте         object\nЗарплата.в.месяц                      int64\nИзменение.зарплаты.за.12.месяцев      int64\nГород                                object\nРазмер.компании                      object\nТип.компании                         object\nПол                                  object\nВозраст                               int64\nОбразование                          object\nУниверситет                          object\nЕще.студент                            bool\nУровень.английского                  object\nПредметная.область                   object\nДата.заполнения                      object\nUser.Agent                           object\nexp                                 float64\ncurrent_job_exp                     float64\nsalary                                int64\nВалюта                               object\ncls                                  object\ndtype: object"
     },
     "execution_count": 6,
     "metadata": {},
     "output_type": "execute_result"
    }
   ],
   "source": [
    "data_dtypes = data.dtypes\n",
    "data_dtypes"
   ],
   "metadata": {
    "collapsed": false,
    "ExecuteTime": {
     "end_time": "2023-10-08T13:04:19.066800Z",
     "start_time": "2023-10-08T13:04:19.060290600Z"
    }
   }
  },
  {
   "cell_type": "markdown",
   "source": [
    "5. Порахуйте, яка частка пропусків міститься в кожній колонці (використовуйте методи isnull та sum)"
   ],
   "metadata": {
    "collapsed": false
   }
  },
  {
   "cell_type": "code",
   "execution_count": 8,
   "outputs": [
    {
     "data": {
      "text/plain": "N                                    0.000000\nДолжность                            0.000000\nЯзык.программирования               44.232537\nСпециализация                       82.938879\nОбщий.опыт.работы                    0.000000\nОпыт.работы.на.текущем.месте         0.000000\nЗарплата.в.месяц                     0.000000\nИзменение.зарплаты.за.12.месяцев     0.000000\nГород                                0.000000\nРазмер.компании                      0.000000\nТип.компании                         0.000000\nПол                                  0.000000\nВозраст                              0.000000\nОбразование                          0.000000\nУниверситет                          4.113051\nЕще.студент                          0.000000\nУровень.английского                  0.000000\nПредметная.область                   2.562040\nДата.заполнения                      0.000000\nUser.Agent                           0.000000\nexp                                  0.000000\ncurrent_job_exp                      0.000000\nsalary                               0.000000\nВалюта                              99.885110\ncls                                 18.083640\ndtype: float64"
     },
     "execution_count": 8,
     "metadata": {},
     "output_type": "execute_result"
    }
   ],
   "source": [
    "missing_fraction = (data.isnull().sum() / len(data)) * 100\n",
    "missing_fraction"
   ],
   "metadata": {
    "collapsed": false,
    "ExecuteTime": {
     "end_time": "2023-10-08T13:07:20.303223500Z",
     "start_time": "2023-10-08T13:07:20.281880Z"
    }
   }
  },
  {
   "cell_type": "markdown",
   "source": [
    "6. Видаліть усі стовпці з пропусками, крім стовпця \"Мова програмування\""
   ],
   "metadata": {
    "collapsed": false
   }
  },
  {
   "cell_type": "code",
   "execution_count": 13,
   "outputs": [
    {
     "data": {
      "text/plain": "  Язык.программирования  N                 Должность Общий.опыт.работы  \\\n0                   NaN  1        Junior QA engineer               0.5   \n1                   NaN  2        Junior QA engineer  меньше 3 месяцев   \n2               C#/.NET  3         Software Engineer                 4   \n3            JavaScript  4         Software Engineer                 5   \n4            JavaScript  5  Senior Software Engineer    10 и более лет   \n\n  Опыт.работы.на.текущем.месте  Зарплата.в.месяц  \\\n0                          0.5               400   \n1             меньше 3 месяцев               430   \n2                            1              2500   \n3                            4              2000   \n4                          0.5              4500   \n\n   Изменение.зарплаты.за.12.месяцев    Город     Размер.компании  \\\n0                                 0  Харьков       до 10 человек   \n1                               130  Харьков  свыше 1000 человек   \n2                               800     Киев     до 1000 человек   \n3                               400   Одесса      до 200 человек   \n4                               500   Другой       до 10 человек   \n\n     Тип.компании      Пол  Возраст           Образование  Еще.студент  \\\n0  Аутсорсинговая  женский       20  Незаконченное высшее         True   \n1  Аутсорсинговая  женский       21  Незаконченное высшее         True   \n2  Аутсорсинговая  мужской       26                Высшее        False   \n3     Продуктовая  мужской       30               Среднее        False   \n4     Продуктовая  мужской       30    Техникум / Колледж        False   \n\n  Уровень.английского      Дата.заполнения  \\\n0       ниже среднего  12/06/2017 12:38:08   \n1       выше среднего  12/06/2017 12:42:51   \n2             средний  12/06/2017 13:02:47   \n3       ниже среднего  12/06/2017 13:03:01   \n4             средний  12/06/2017 13:03:47   \n\n                                          User.Agent   exp  current_job_exp  \\\n0  Mozilla/5.0 (Windows NT 10.0; Win64; x64) Appl...   0.5              0.5   \n1  Mozilla/5.0 (iPad; CPU OS 10_2_1 like Mac OS X...   0.0              0.0   \n2  Mozilla/5.0 (Windows NT 10.0; Win64; x64) Appl...   4.0              1.0   \n3  Mozilla/5.0 (Windows NT 6.1; Win64; x64) Apple...   5.0              4.0   \n4  Mozilla/5.0 (iPhone; CPU iPhone OS 10_3_2 like...  10.0              0.5   \n\n   salary  \n0     400  \n1     430  \n2    2500  \n3    2000  \n4    4500  ",
      "text/html": "<div>\n<style scoped>\n    .dataframe tbody tr th:only-of-type {\n        vertical-align: middle;\n    }\n\n    .dataframe tbody tr th {\n        vertical-align: top;\n    }\n\n    .dataframe thead th {\n        text-align: right;\n    }\n</style>\n<table border=\"1\" class=\"dataframe\">\n  <thead>\n    <tr style=\"text-align: right;\">\n      <th></th>\n      <th>Язык.программирования</th>\n      <th>N</th>\n      <th>Должность</th>\n      <th>Общий.опыт.работы</th>\n      <th>Опыт.работы.на.текущем.месте</th>\n      <th>Зарплата.в.месяц</th>\n      <th>Изменение.зарплаты.за.12.месяцев</th>\n      <th>Город</th>\n      <th>Размер.компании</th>\n      <th>Тип.компании</th>\n      <th>Пол</th>\n      <th>Возраст</th>\n      <th>Образование</th>\n      <th>Еще.студент</th>\n      <th>Уровень.английского</th>\n      <th>Дата.заполнения</th>\n      <th>User.Agent</th>\n      <th>exp</th>\n      <th>current_job_exp</th>\n      <th>salary</th>\n    </tr>\n  </thead>\n  <tbody>\n    <tr>\n      <th>0</th>\n      <td>NaN</td>\n      <td>1</td>\n      <td>Junior QA engineer</td>\n      <td>0.5</td>\n      <td>0.5</td>\n      <td>400</td>\n      <td>0</td>\n      <td>Харьков</td>\n      <td>до 10 человек</td>\n      <td>Аутсорсинговая</td>\n      <td>женский</td>\n      <td>20</td>\n      <td>Незаконченное высшее</td>\n      <td>True</td>\n      <td>ниже среднего</td>\n      <td>12/06/2017 12:38:08</td>\n      <td>Mozilla/5.0 (Windows NT 10.0; Win64; x64) Appl...</td>\n      <td>0.5</td>\n      <td>0.5</td>\n      <td>400</td>\n    </tr>\n    <tr>\n      <th>1</th>\n      <td>NaN</td>\n      <td>2</td>\n      <td>Junior QA engineer</td>\n      <td>меньше 3 месяцев</td>\n      <td>меньше 3 месяцев</td>\n      <td>430</td>\n      <td>130</td>\n      <td>Харьков</td>\n      <td>свыше 1000 человек</td>\n      <td>Аутсорсинговая</td>\n      <td>женский</td>\n      <td>21</td>\n      <td>Незаконченное высшее</td>\n      <td>True</td>\n      <td>выше среднего</td>\n      <td>12/06/2017 12:42:51</td>\n      <td>Mozilla/5.0 (iPad; CPU OS 10_2_1 like Mac OS X...</td>\n      <td>0.0</td>\n      <td>0.0</td>\n      <td>430</td>\n    </tr>\n    <tr>\n      <th>2</th>\n      <td>C#/.NET</td>\n      <td>3</td>\n      <td>Software Engineer</td>\n      <td>4</td>\n      <td>1</td>\n      <td>2500</td>\n      <td>800</td>\n      <td>Киев</td>\n      <td>до 1000 человек</td>\n      <td>Аутсорсинговая</td>\n      <td>мужской</td>\n      <td>26</td>\n      <td>Высшее</td>\n      <td>False</td>\n      <td>средний</td>\n      <td>12/06/2017 13:02:47</td>\n      <td>Mozilla/5.0 (Windows NT 10.0; Win64; x64) Appl...</td>\n      <td>4.0</td>\n      <td>1.0</td>\n      <td>2500</td>\n    </tr>\n    <tr>\n      <th>3</th>\n      <td>JavaScript</td>\n      <td>4</td>\n      <td>Software Engineer</td>\n      <td>5</td>\n      <td>4</td>\n      <td>2000</td>\n      <td>400</td>\n      <td>Одесса</td>\n      <td>до 200 человек</td>\n      <td>Продуктовая</td>\n      <td>мужской</td>\n      <td>30</td>\n      <td>Среднее</td>\n      <td>False</td>\n      <td>ниже среднего</td>\n      <td>12/06/2017 13:03:01</td>\n      <td>Mozilla/5.0 (Windows NT 6.1; Win64; x64) Apple...</td>\n      <td>5.0</td>\n      <td>4.0</td>\n      <td>2000</td>\n    </tr>\n    <tr>\n      <th>4</th>\n      <td>JavaScript</td>\n      <td>5</td>\n      <td>Senior Software Engineer</td>\n      <td>10 и более лет</td>\n      <td>0.5</td>\n      <td>4500</td>\n      <td>500</td>\n      <td>Другой</td>\n      <td>до 10 человек</td>\n      <td>Продуктовая</td>\n      <td>мужской</td>\n      <td>30</td>\n      <td>Техникум / Колледж</td>\n      <td>False</td>\n      <td>средний</td>\n      <td>12/06/2017 13:03:47</td>\n      <td>Mozilla/5.0 (iPhone; CPU iPhone OS 10_3_2 like...</td>\n      <td>10.0</td>\n      <td>0.5</td>\n      <td>4500</td>\n    </tr>\n  </tbody>\n</table>\n</div>"
     },
     "execution_count": 13,
     "metadata": {},
     "output_type": "execute_result"
    }
   ],
   "source": [
    "cols_to_keep = [\"Язык.программирования\"] + [col for col, fraction in missing_fraction.items() if fraction == 0]\n",
    "data = data[cols_to_keep]\n",
    "data.head()"
   ],
   "metadata": {
    "collapsed": false,
    "ExecuteTime": {
     "end_time": "2023-10-08T13:12:23.584194900Z",
     "start_time": "2023-10-08T13:12:23.527851700Z"
    }
   }
  },
  {
   "cell_type": "markdown",
   "source": [
    "7. Знову порахуйте, яка частка пропусків міститься в кожній колонці і переконайтеся, що залишився тільки стовпець \"Мова.програмування\""
   ],
   "metadata": {
    "collapsed": false
   }
  },
  {
   "cell_type": "code",
   "execution_count": 14,
   "outputs": [
    {
     "data": {
      "text/plain": "Язык.программирования               44.232537\nN                                    0.000000\nДолжность                            0.000000\nОбщий.опыт.работы                    0.000000\nОпыт.работы.на.текущем.месте         0.000000\nЗарплата.в.месяц                     0.000000\nИзменение.зарплаты.за.12.месяцев     0.000000\nГород                                0.000000\nРазмер.компании                      0.000000\nТип.компании                         0.000000\nПол                                  0.000000\nВозраст                              0.000000\nОбразование                          0.000000\nЕще.студент                          0.000000\nУровень.английского                  0.000000\nДата.заполнения                      0.000000\nUser.Agent                           0.000000\nexp                                  0.000000\ncurrent_job_exp                      0.000000\nsalary                               0.000000\ndtype: float64"
     },
     "execution_count": 14,
     "metadata": {},
     "output_type": "execute_result"
    }
   ],
   "source": [
    "missing_fraction = (data.isnull().sum() / len(data)) * 100\n",
    "missing_fraction"
   ],
   "metadata": {
    "collapsed": false,
    "ExecuteTime": {
     "end_time": "2023-10-08T13:12:27.388344900Z",
     "start_time": "2023-10-08T13:12:27.382126Z"
    }
   }
  },
  {
   "cell_type": "markdown",
   "source": [
    "8. Видаліть усі рядки у вихідній таблиці за допомогою методу dropna\n",
    "9. Визначте новий розмір таблиці за допомогою методу shape"
   ],
   "metadata": {
    "collapsed": false
   }
  },
  {
   "cell_type": "code",
   "execution_count": 16,
   "outputs": [
    {
     "data": {
      "text/plain": "(4854, 20)"
     },
     "execution_count": 16,
     "metadata": {},
     "output_type": "execute_result"
    }
   ],
   "source": [
    "data_no_missing_rows = data.dropna()\n",
    "\n",
    "data_no_missing_rows.shape"
   ],
   "metadata": {
    "collapsed": false,
    "ExecuteTime": {
     "end_time": "2023-10-08T13:36:15.635089200Z",
     "start_time": "2023-10-08T13:36:15.624942100Z"
    }
   }
  },
  {
   "cell_type": "markdown",
   "source": [
    "10. Створіть нову таблицю python_data, в якій будуть тільки рядки зі спеціалістами, які вказали мову програмування Python\n",
    "11. Визначте розмір таблиці python_data за допомогою методу shape"
   ],
   "metadata": {
    "collapsed": false
   }
  },
  {
   "cell_type": "code",
   "execution_count": 22,
   "outputs": [
    {
     "data": {
      "text/plain": "     Язык.программирования     N                 Должность Общий.опыт.работы  \\\n12                  Python    13         Software Engineer                 1   \n68                  Python    69         Software Engineer               1.5   \n87                  Python    88  Junior Software Engineer               0.5   \n114                 Python   115  Junior Software Engineer               1.5   \n143                 Python   144  Junior Software Engineer                 1   \n...                    ...   ...                       ...               ...   \n8546                Python  8547         Software Engineer                 5   \n8625                Python  8626         Software Engineer                 4   \n8635                Python  8636  Senior Software Engineer    10 и более лет   \n8673                Python  8674  Junior Software Engineer               0.5   \n8695                Python  8696         Software Engineer                 1   \n\n     Опыт.работы.на.текущем.месте  Зарплата.в.месяц  \\\n12               меньше 3 месяцев               800   \n68                            0.5               900   \n87                            0.5               600   \n114                           0.5               685   \n143                             1               750   \n...                           ...               ...   \n8546                            1              2000   \n8625                            1              1750   \n8635             меньше 3 месяцев              4000   \n8673                          0.5               350   \n8695                          0.5              1500   \n\n      Изменение.зарплаты.за.12.месяцев      Город     Размер.компании  \\\n12                                 200       Киев       до 50 человек   \n68                                 900       Киев       до 10 человек   \n87                                   0       Киев       до 10 человек   \n114                                250       Киев     до 1000 человек   \n143                                250       Киев       до 10 человек   \n...                                ...        ...                 ...   \n8546                               800  Запорожье       до 50 человек   \n8625                                 0       Киев  свыше 1000 человек   \n8635                              1300   Удаленно       до 10 человек   \n8673                                50       Киев       до 50 человек   \n8695                              1000       Киев       до 10 человек   \n\n        Тип.компании      Пол  Возраст           Образование  Еще.студент  \\\n12    Аутсорсинговая  мужской       26                Высшее        False   \n68           Стартап  мужской       21  Незаконченное высшее         True   \n87    Аутсорсинговая  мужской       19  Незаконченное высшее         True   \n114   Аутсорсинговая  мужской       21  Незаконченное высшее        False   \n143   Аутсорсинговая  мужской       21  Незаконченное высшее         True   \n...              ...      ...      ...                   ...          ...   \n8546  Аутсорсинговая  мужской       22  Незаконченное высшее        False   \n8625  Аутсорсинговая  мужской       28               Среднее        False   \n8635         Стартап  мужской       33                Высшее        False   \n8673  Аутсорсинговая  мужской       22                Высшее        False   \n8695         Стартап  мужской       29                Высшее        False   \n\n     Уровень.английского      Дата.заполнения  \\\n12         ниже среднего  12/06/2017 13:05:54   \n68         выше среднего  12/06/2017 13:11:17   \n87         выше среднего  12/06/2017 13:12:25   \n114              средний  12/06/2017 13:14:52   \n143        выше среднего  12/06/2017 13:19:10   \n...                  ...                  ...   \n8546             средний  10/07/2017 14:11:26   \n8625             средний  11/07/2017 16:15:40   \n8635       выше среднего  11/07/2017 17:51:36   \n8673             средний  12/07/2017 09:37:16   \n8695             средний  12/07/2017 14:39:21   \n\n                                             User.Agent   exp  \\\n12    Mozilla/5.0 (Windows NT 6.1; Win64; x64) Apple...   1.0   \n68    Mozilla/5.0 (Windows NT 10.0; Win64; x64) Appl...   1.5   \n87    Mozilla/5.0 (X11; Linux x86_64) AppleWebKit/53...   0.5   \n114   Mozilla/5.0 (X11; Linux x86_64) AppleWebKit/53...   1.5   \n143   Mozilla/5.0 (X11; Linux x86_64) AppleWebKit/53...   1.0   \n...                                                 ...   ...   \n8546  Mozilla/5.0 (Macintosh; Intel Mac OS X 10_12_5...   5.0   \n8625  Mozilla/5.0 (X11; Ubuntu; Linux x86_64; rv:54....   4.0   \n8635  Mozilla/5.0 (X11; Linux x86_64) AppleWebKit/53...  10.0   \n8673  Mozilla/5.0 (X11; Ubuntu; Linux x86_64; rv:54....   0.5   \n8695  Mozilla/5.0 (X11; Linux x86_64) AppleWebKit/53...   1.0   \n\n      current_job_exp  salary  \n12                0.0     800  \n68                0.5     900  \n87                0.5     600  \n114               0.5     685  \n143               1.0     750  \n...               ...     ...  \n8546              1.0    2000  \n8625              1.0    1750  \n8635              0.0    4000  \n8673              0.5     350  \n8695              0.5    1500  \n\n[207 rows x 20 columns]",
      "text/html": "<div>\n<style scoped>\n    .dataframe tbody tr th:only-of-type {\n        vertical-align: middle;\n    }\n\n    .dataframe tbody tr th {\n        vertical-align: top;\n    }\n\n    .dataframe thead th {\n        text-align: right;\n    }\n</style>\n<table border=\"1\" class=\"dataframe\">\n  <thead>\n    <tr style=\"text-align: right;\">\n      <th></th>\n      <th>Язык.программирования</th>\n      <th>N</th>\n      <th>Должность</th>\n      <th>Общий.опыт.работы</th>\n      <th>Опыт.работы.на.текущем.месте</th>\n      <th>Зарплата.в.месяц</th>\n      <th>Изменение.зарплаты.за.12.месяцев</th>\n      <th>Город</th>\n      <th>Размер.компании</th>\n      <th>Тип.компании</th>\n      <th>Пол</th>\n      <th>Возраст</th>\n      <th>Образование</th>\n      <th>Еще.студент</th>\n      <th>Уровень.английского</th>\n      <th>Дата.заполнения</th>\n      <th>User.Agent</th>\n      <th>exp</th>\n      <th>current_job_exp</th>\n      <th>salary</th>\n    </tr>\n  </thead>\n  <tbody>\n    <tr>\n      <th>12</th>\n      <td>Python</td>\n      <td>13</td>\n      <td>Software Engineer</td>\n      <td>1</td>\n      <td>меньше 3 месяцев</td>\n      <td>800</td>\n      <td>200</td>\n      <td>Киев</td>\n      <td>до 50 человек</td>\n      <td>Аутсорсинговая</td>\n      <td>мужской</td>\n      <td>26</td>\n      <td>Высшее</td>\n      <td>False</td>\n      <td>ниже среднего</td>\n      <td>12/06/2017 13:05:54</td>\n      <td>Mozilla/5.0 (Windows NT 6.1; Win64; x64) Apple...</td>\n      <td>1.0</td>\n      <td>0.0</td>\n      <td>800</td>\n    </tr>\n    <tr>\n      <th>68</th>\n      <td>Python</td>\n      <td>69</td>\n      <td>Software Engineer</td>\n      <td>1.5</td>\n      <td>0.5</td>\n      <td>900</td>\n      <td>900</td>\n      <td>Киев</td>\n      <td>до 10 человек</td>\n      <td>Стартап</td>\n      <td>мужской</td>\n      <td>21</td>\n      <td>Незаконченное высшее</td>\n      <td>True</td>\n      <td>выше среднего</td>\n      <td>12/06/2017 13:11:17</td>\n      <td>Mozilla/5.0 (Windows NT 10.0; Win64; x64) Appl...</td>\n      <td>1.5</td>\n      <td>0.5</td>\n      <td>900</td>\n    </tr>\n    <tr>\n      <th>87</th>\n      <td>Python</td>\n      <td>88</td>\n      <td>Junior Software Engineer</td>\n      <td>0.5</td>\n      <td>0.5</td>\n      <td>600</td>\n      <td>0</td>\n      <td>Киев</td>\n      <td>до 10 человек</td>\n      <td>Аутсорсинговая</td>\n      <td>мужской</td>\n      <td>19</td>\n      <td>Незаконченное высшее</td>\n      <td>True</td>\n      <td>выше среднего</td>\n      <td>12/06/2017 13:12:25</td>\n      <td>Mozilla/5.0 (X11; Linux x86_64) AppleWebKit/53...</td>\n      <td>0.5</td>\n      <td>0.5</td>\n      <td>600</td>\n    </tr>\n    <tr>\n      <th>114</th>\n      <td>Python</td>\n      <td>115</td>\n      <td>Junior Software Engineer</td>\n      <td>1.5</td>\n      <td>0.5</td>\n      <td>685</td>\n      <td>250</td>\n      <td>Киев</td>\n      <td>до 1000 человек</td>\n      <td>Аутсорсинговая</td>\n      <td>мужской</td>\n      <td>21</td>\n      <td>Незаконченное высшее</td>\n      <td>False</td>\n      <td>средний</td>\n      <td>12/06/2017 13:14:52</td>\n      <td>Mozilla/5.0 (X11; Linux x86_64) AppleWebKit/53...</td>\n      <td>1.5</td>\n      <td>0.5</td>\n      <td>685</td>\n    </tr>\n    <tr>\n      <th>143</th>\n      <td>Python</td>\n      <td>144</td>\n      <td>Junior Software Engineer</td>\n      <td>1</td>\n      <td>1</td>\n      <td>750</td>\n      <td>250</td>\n      <td>Киев</td>\n      <td>до 10 человек</td>\n      <td>Аутсорсинговая</td>\n      <td>мужской</td>\n      <td>21</td>\n      <td>Незаконченное высшее</td>\n      <td>True</td>\n      <td>выше среднего</td>\n      <td>12/06/2017 13:19:10</td>\n      <td>Mozilla/5.0 (X11; Linux x86_64) AppleWebKit/53...</td>\n      <td>1.0</td>\n      <td>1.0</td>\n      <td>750</td>\n    </tr>\n    <tr>\n      <th>...</th>\n      <td>...</td>\n      <td>...</td>\n      <td>...</td>\n      <td>...</td>\n      <td>...</td>\n      <td>...</td>\n      <td>...</td>\n      <td>...</td>\n      <td>...</td>\n      <td>...</td>\n      <td>...</td>\n      <td>...</td>\n      <td>...</td>\n      <td>...</td>\n      <td>...</td>\n      <td>...</td>\n      <td>...</td>\n      <td>...</td>\n      <td>...</td>\n      <td>...</td>\n    </tr>\n    <tr>\n      <th>8546</th>\n      <td>Python</td>\n      <td>8547</td>\n      <td>Software Engineer</td>\n      <td>5</td>\n      <td>1</td>\n      <td>2000</td>\n      <td>800</td>\n      <td>Запорожье</td>\n      <td>до 50 человек</td>\n      <td>Аутсорсинговая</td>\n      <td>мужской</td>\n      <td>22</td>\n      <td>Незаконченное высшее</td>\n      <td>False</td>\n      <td>средний</td>\n      <td>10/07/2017 14:11:26</td>\n      <td>Mozilla/5.0 (Macintosh; Intel Mac OS X 10_12_5...</td>\n      <td>5.0</td>\n      <td>1.0</td>\n      <td>2000</td>\n    </tr>\n    <tr>\n      <th>8625</th>\n      <td>Python</td>\n      <td>8626</td>\n      <td>Software Engineer</td>\n      <td>4</td>\n      <td>1</td>\n      <td>1750</td>\n      <td>0</td>\n      <td>Киев</td>\n      <td>свыше 1000 человек</td>\n      <td>Аутсорсинговая</td>\n      <td>мужской</td>\n      <td>28</td>\n      <td>Среднее</td>\n      <td>False</td>\n      <td>средний</td>\n      <td>11/07/2017 16:15:40</td>\n      <td>Mozilla/5.0 (X11; Ubuntu; Linux x86_64; rv:54....</td>\n      <td>4.0</td>\n      <td>1.0</td>\n      <td>1750</td>\n    </tr>\n    <tr>\n      <th>8635</th>\n      <td>Python</td>\n      <td>8636</td>\n      <td>Senior Software Engineer</td>\n      <td>10 и более лет</td>\n      <td>меньше 3 месяцев</td>\n      <td>4000</td>\n      <td>1300</td>\n      <td>Удаленно</td>\n      <td>до 10 человек</td>\n      <td>Стартап</td>\n      <td>мужской</td>\n      <td>33</td>\n      <td>Высшее</td>\n      <td>False</td>\n      <td>выше среднего</td>\n      <td>11/07/2017 17:51:36</td>\n      <td>Mozilla/5.0 (X11; Linux x86_64) AppleWebKit/53...</td>\n      <td>10.0</td>\n      <td>0.0</td>\n      <td>4000</td>\n    </tr>\n    <tr>\n      <th>8673</th>\n      <td>Python</td>\n      <td>8674</td>\n      <td>Junior Software Engineer</td>\n      <td>0.5</td>\n      <td>0.5</td>\n      <td>350</td>\n      <td>50</td>\n      <td>Киев</td>\n      <td>до 50 человек</td>\n      <td>Аутсорсинговая</td>\n      <td>мужской</td>\n      <td>22</td>\n      <td>Высшее</td>\n      <td>False</td>\n      <td>средний</td>\n      <td>12/07/2017 09:37:16</td>\n      <td>Mozilla/5.0 (X11; Ubuntu; Linux x86_64; rv:54....</td>\n      <td>0.5</td>\n      <td>0.5</td>\n      <td>350</td>\n    </tr>\n    <tr>\n      <th>8695</th>\n      <td>Python</td>\n      <td>8696</td>\n      <td>Software Engineer</td>\n      <td>1</td>\n      <td>0.5</td>\n      <td>1500</td>\n      <td>1000</td>\n      <td>Киев</td>\n      <td>до 10 человек</td>\n      <td>Стартап</td>\n      <td>мужской</td>\n      <td>29</td>\n      <td>Высшее</td>\n      <td>False</td>\n      <td>средний</td>\n      <td>12/07/2017 14:39:21</td>\n      <td>Mozilla/5.0 (X11; Linux x86_64) AppleWebKit/53...</td>\n      <td>1.0</td>\n      <td>0.5</td>\n      <td>1500</td>\n    </tr>\n  </tbody>\n</table>\n<p>207 rows × 20 columns</p>\n</div>"
     },
     "execution_count": 22,
     "metadata": {},
     "output_type": "execute_result"
    }
   ],
   "source": [
    "python_data = data_no_missing_rows[data_no_missing_rows[\"Язык.программирования\"] == \"Python\"]\n",
    "python_data\n"
   ],
   "metadata": {
    "collapsed": false,
    "ExecuteTime": {
     "end_time": "2023-10-08T13:46:09.923997Z",
     "start_time": "2023-10-08T13:46:09.895824100Z"
    }
   }
  },
  {
   "cell_type": "code",
   "execution_count": 23,
   "outputs": [
    {
     "data": {
      "text/plain": "(207, 20)"
     },
     "execution_count": 23,
     "metadata": {},
     "output_type": "execute_result"
    }
   ],
   "source": [
    "python_data.shape"
   ],
   "metadata": {
    "collapsed": false,
    "ExecuteTime": {
     "end_time": "2023-10-08T13:47:18.131616500Z",
     "start_time": "2023-10-08T13:47:18.106714500Z"
    }
   }
  },
  {
   "cell_type": "markdown",
   "source": [
    "12. Використовуючи метод groupby, виконайте групування за стовпчиком \"Посада\""
   ],
   "metadata": {
    "collapsed": false
   }
  },
  {
   "cell_type": "code",
   "execution_count": 25,
   "outputs": [
    {
     "data": {
      "text/plain": "Должность\nJunior Software Engineer     63\nSenior Software Engineer     31\nSoftware Engineer           100\nSystem Architect              2\nTechnical Lead               11\ndtype: int64"
     },
     "execution_count": 25,
     "metadata": {},
     "output_type": "execute_result"
    }
   ],
   "source": [
    "grouped_by_position = python_data.groupby('Должность')\n",
    "grouped_counts = grouped_by_position.size()\n",
    "grouped_counts.head()"
   ],
   "metadata": {
    "collapsed": false,
    "ExecuteTime": {
     "end_time": "2023-10-08T13:49:39.067268Z",
     "start_time": "2023-10-08T13:49:39.048183100Z"
    }
   }
  },
  {
   "cell_type": "markdown",
   "source": [
    "13. Створіть новий DataFrame, де для згрупованих даних за стовпчиком \"Посада\", виконайте агрегацію даних за допомогою методу agg і знайдіть мінімальне та максимальне значення у стовпчику \"Зарплата.в.місяць\""
   ],
   "metadata": {
    "collapsed": false
   }
  },
  {
   "cell_type": "markdown",
   "source": [],
   "metadata": {
    "collapsed": false
   }
  },
  {
   "cell_type": "code",
   "execution_count": 26,
   "outputs": [
    {
     "data": {
      "text/plain": "                           min   max\nДолжность                           \nJunior Software Engineer   100  1250\nSenior Software Engineer  1300  9200\nSoftware Engineer          500  5400\nSystem Architect          3000  5000\nTechnical Lead            1425  6200",
      "text/html": "<div>\n<style scoped>\n    .dataframe tbody tr th:only-of-type {\n        vertical-align: middle;\n    }\n\n    .dataframe tbody tr th {\n        vertical-align: top;\n    }\n\n    .dataframe thead th {\n        text-align: right;\n    }\n</style>\n<table border=\"1\" class=\"dataframe\">\n  <thead>\n    <tr style=\"text-align: right;\">\n      <th></th>\n      <th>min</th>\n      <th>max</th>\n    </tr>\n    <tr>\n      <th>Должность</th>\n      <th></th>\n      <th></th>\n    </tr>\n  </thead>\n  <tbody>\n    <tr>\n      <th>Junior Software Engineer</th>\n      <td>100</td>\n      <td>1250</td>\n    </tr>\n    <tr>\n      <th>Senior Software Engineer</th>\n      <td>1300</td>\n      <td>9200</td>\n    </tr>\n    <tr>\n      <th>Software Engineer</th>\n      <td>500</td>\n      <td>5400</td>\n    </tr>\n    <tr>\n      <th>System Architect</th>\n      <td>3000</td>\n      <td>5000</td>\n    </tr>\n    <tr>\n      <th>Technical Lead</th>\n      <td>1425</td>\n      <td>6200</td>\n    </tr>\n  </tbody>\n</table>\n</div>"
     },
     "execution_count": 26,
     "metadata": {},
     "output_type": "execute_result"
    }
   ],
   "source": [
    "salary_aggregation = grouped_by_position['Зарплата.в.месяц'].agg(['min', 'max'])\n",
    "salary_aggregation.head()"
   ],
   "metadata": {
    "collapsed": false,
    "ExecuteTime": {
     "end_time": "2023-10-08T13:52:28.533956900Z",
     "start_time": "2023-10-08T13:52:28.525956400Z"
    }
   }
  },
  {
   "cell_type": "markdown",
   "source": [
    "14. Створіть функцію fill_avg_salary, яка повертатиме середнє значення заробітної плати на місяць. Використовуйте її для методу apply та створіть новий стовпчик \"avg\""
   ],
   "metadata": {
    "collapsed": false
   }
  },
  {
   "cell_type": "code",
   "execution_count": 27,
   "outputs": [
    {
     "data": {
      "text/plain": "                           min   max     avg\nДолжность                                   \nJunior Software Engineer   100  1250   675.0\nSenior Software Engineer  1300  9200  5250.0\nSoftware Engineer          500  5400  2950.0\nSystem Architect          3000  5000  4000.0\nTechnical Lead            1425  6200  3812.5",
      "text/html": "<div>\n<style scoped>\n    .dataframe tbody tr th:only-of-type {\n        vertical-align: middle;\n    }\n\n    .dataframe tbody tr th {\n        vertical-align: top;\n    }\n\n    .dataframe thead th {\n        text-align: right;\n    }\n</style>\n<table border=\"1\" class=\"dataframe\">\n  <thead>\n    <tr style=\"text-align: right;\">\n      <th></th>\n      <th>min</th>\n      <th>max</th>\n      <th>avg</th>\n    </tr>\n    <tr>\n      <th>Должность</th>\n      <th></th>\n      <th></th>\n      <th></th>\n    </tr>\n  </thead>\n  <tbody>\n    <tr>\n      <th>Junior Software Engineer</th>\n      <td>100</td>\n      <td>1250</td>\n      <td>675.0</td>\n    </tr>\n    <tr>\n      <th>Senior Software Engineer</th>\n      <td>1300</td>\n      <td>9200</td>\n      <td>5250.0</td>\n    </tr>\n    <tr>\n      <th>Software Engineer</th>\n      <td>500</td>\n      <td>5400</td>\n      <td>2950.0</td>\n    </tr>\n    <tr>\n      <th>System Architect</th>\n      <td>3000</td>\n      <td>5000</td>\n      <td>4000.0</td>\n    </tr>\n    <tr>\n      <th>Technical Lead</th>\n      <td>1425</td>\n      <td>6200</td>\n      <td>3812.5</td>\n    </tr>\n  </tbody>\n</table>\n</div>"
     },
     "execution_count": 27,
     "metadata": {},
     "output_type": "execute_result"
    }
   ],
   "source": [
    "def fill_avg_salary(row):\n",
    "    return row.mean()\n",
    "\n",
    "salary_aggregation[\"avg\"] = salary_aggregation.apply(fill_avg_salary, axis=1)\n",
    "salary_aggregation"
   ],
   "metadata": {
    "collapsed": false,
    "ExecuteTime": {
     "end_time": "2023-10-08T13:56:00.961543Z",
     "start_time": "2023-10-08T13:56:00.913898900Z"
    }
   }
  },
  {
   "cell_type": "markdown",
   "source": [
    "15. Створіть описову статистику за допомогою методу describe для нового стовпчик"
   ],
   "metadata": {
    "collapsed": false
   }
  },
  {
   "cell_type": "code",
   "execution_count": 29,
   "outputs": [
    {
     "data": {
      "text/plain": "        avg\ncount     5\nmean   3337\nstd    1700\nmin     675\n25%    2950\n50%    3812\n75%    4000\nmax    5250",
      "text/html": "<div>\n<style scoped>\n    .dataframe tbody tr th:only-of-type {\n        vertical-align: middle;\n    }\n\n    .dataframe tbody tr th {\n        vertical-align: top;\n    }\n\n    .dataframe thead th {\n        text-align: right;\n    }\n</style>\n<table border=\"1\" class=\"dataframe\">\n  <thead>\n    <tr style=\"text-align: right;\">\n      <th></th>\n      <th>avg</th>\n    </tr>\n  </thead>\n  <tbody>\n    <tr>\n      <th>count</th>\n      <td>5</td>\n    </tr>\n    <tr>\n      <th>mean</th>\n      <td>3337</td>\n    </tr>\n    <tr>\n      <th>std</th>\n      <td>1700</td>\n    </tr>\n    <tr>\n      <th>min</th>\n      <td>675</td>\n    </tr>\n    <tr>\n      <th>25%</th>\n      <td>2950</td>\n    </tr>\n    <tr>\n      <th>50%</th>\n      <td>3812</td>\n    </tr>\n    <tr>\n      <th>75%</th>\n      <td>4000</td>\n    </tr>\n    <tr>\n      <th>max</th>\n      <td>5250</td>\n    </tr>\n  </tbody>\n</table>\n</div>"
     },
     "execution_count": 29,
     "metadata": {},
     "output_type": "execute_result"
    }
   ],
   "source": [
    "desc_stats = salary_aggregation[\"avg\"].describe()\n",
    "pd.DataFrame(desc_stats.apply(lambda x: int(x)))"
   ],
   "metadata": {
    "collapsed": false,
    "ExecuteTime": {
     "end_time": "2023-10-08T13:59:31.675106700Z",
     "start_time": "2023-10-08T13:59:31.646467500Z"
    }
   }
  },
  {
   "cell_type": "markdown",
   "source": [
    "16. Збереження"
   ],
   "metadata": {
    "collapsed": false
   }
  },
  {
   "cell_type": "code",
   "execution_count": 30,
   "outputs": [],
   "source": [
    "salary_aggregation.to_csv('salary.csv')"
   ],
   "metadata": {
    "collapsed": false,
    "ExecuteTime": {
     "end_time": "2023-10-08T14:02:58.132489Z",
     "start_time": "2023-10-08T14:02:58.125978800Z"
    }
   }
  },
  {
   "cell_type": "code",
   "execution_count": null,
   "outputs": [],
   "source": [],
   "metadata": {
    "collapsed": false
   }
  }
 ],
 "metadata": {
  "kernelspec": {
   "display_name": "Python 3",
   "language": "python",
   "name": "python3"
  },
  "language_info": {
   "codemirror_mode": {
    "name": "ipython",
    "version": 2
   },
   "file_extension": ".py",
   "mimetype": "text/x-python",
   "name": "python",
   "nbconvert_exporter": "python",
   "pygments_lexer": "ipython2",
   "version": "2.7.6"
  }
 },
 "nbformat": 4,
 "nbformat_minor": 0
}
