{
 "nbformat": 4,
 "nbformat_minor": 0,
 "metadata": {
  "colab": {
   "provenance": []
  },
  "kernelspec": {
   "name": "python3",
   "language": "python",
   "display_name": "Python 3 (ipykernel)"
  },
  "language_info": {
   "name": "python"
  }
 },
 "cells": [
  {
   "cell_type": "code",
   "execution_count": 4,
   "metadata": {
    "id": "M8DL4IVFufLk",
    "ExecuteTime": {
     "end_time": "2023-10-08T12:58:30.171356300Z",
     "start_time": "2023-10-08T12:58:30.157835100Z"
    }
   },
   "outputs": [],
   "source": [
    "import numpy as np\n",
    "import pandas as pd\n",
    "import matplotlib.pyplot as plt"
   ]
  },
  {
   "cell_type": "code",
   "source": [
    "url = 'https://uk.wikipedia.org/wiki/%D0%9D%D0%B0%D1%81%D0%B5%D0%BB%D0%B5%D0%BD%D0%BD%D1%8F_%D0%A3%D0%BA%D1%80%D0%B0%D1%97%D0%BD%D0%B8'\n",
    "table = pd.read_html(url, match=\"Коефіцієнт народжуваності в регіонах України *\")"
   ],
   "metadata": {
    "id": "ahaS8ol0uo4y",
    "ExecuteTime": {
     "end_time": "2023-10-08T12:58:35.584806200Z",
     "start_time": "2023-10-08T12:58:34.938888300Z"
    }
   },
   "execution_count": 5,
   "outputs": []
  },
  {
   "cell_type": "code",
   "source": [
    "df = pd.DataFrame(table[0])"
   ],
   "metadata": {
    "id": "h6KS8Femuql_",
    "ExecuteTime": {
     "end_time": "2023-10-08T12:58:36.884084100Z",
     "start_time": "2023-10-08T12:58:36.865079800Z"
    }
   },
   "execution_count": 6,
   "outputs": []
  },
  {
   "cell_type": "code",
   "source": [
    "df.head()"
   ],
   "metadata": {
    "colab": {
     "base_uri": "https://localhost:8080/",
     "height": 206
    },
    "id": "eImoxi1guvdd",
    "outputId": "b18db686-08fc-4633-c3db-48b1a435ff32",
    "ExecuteTime": {
     "end_time": "2023-10-08T12:58:38.288418700Z",
     "start_time": "2023-10-08T12:58:38.276247Z"
    }
   },
   "execution_count": 7,
   "outputs": [
    {
     "data": {
      "text/plain": "             Регіон   1950   1960   1970  1990  2000  2012 2014 2019\n0              Крим  230.0  206.0  160.0   130    73   126    —    —\n1         Вінницька  224.0  192.0  142.0   124    84   112  109   76\n2         Волинська  247.0  250.0  179.0   153   112   148  141  101\n3  Дніпропетровська  204.0  204.0  151.0   123    71   112  111   71\n4          Донецька  271.0  214.0  140.0   109    61    98   82    —",
      "text/html": "<div>\n<style scoped>\n    .dataframe tbody tr th:only-of-type {\n        vertical-align: middle;\n    }\n\n    .dataframe tbody tr th {\n        vertical-align: top;\n    }\n\n    .dataframe thead th {\n        text-align: right;\n    }\n</style>\n<table border=\"1\" class=\"dataframe\">\n  <thead>\n    <tr style=\"text-align: right;\">\n      <th></th>\n      <th>Регіон</th>\n      <th>1950</th>\n      <th>1960</th>\n      <th>1970</th>\n      <th>1990</th>\n      <th>2000</th>\n      <th>2012</th>\n      <th>2014</th>\n      <th>2019</th>\n    </tr>\n  </thead>\n  <tbody>\n    <tr>\n      <th>0</th>\n      <td>Крим</td>\n      <td>230.0</td>\n      <td>206.0</td>\n      <td>160.0</td>\n      <td>130</td>\n      <td>73</td>\n      <td>126</td>\n      <td>—</td>\n      <td>—</td>\n    </tr>\n    <tr>\n      <th>1</th>\n      <td>Вінницька</td>\n      <td>224.0</td>\n      <td>192.0</td>\n      <td>142.0</td>\n      <td>124</td>\n      <td>84</td>\n      <td>112</td>\n      <td>109</td>\n      <td>76</td>\n    </tr>\n    <tr>\n      <th>2</th>\n      <td>Волинська</td>\n      <td>247.0</td>\n      <td>250.0</td>\n      <td>179.0</td>\n      <td>153</td>\n      <td>112</td>\n      <td>148</td>\n      <td>141</td>\n      <td>101</td>\n    </tr>\n    <tr>\n      <th>3</th>\n      <td>Дніпропетровська</td>\n      <td>204.0</td>\n      <td>204.0</td>\n      <td>151.0</td>\n      <td>123</td>\n      <td>71</td>\n      <td>112</td>\n      <td>111</td>\n      <td>71</td>\n    </tr>\n    <tr>\n      <th>4</th>\n      <td>Донецька</td>\n      <td>271.0</td>\n      <td>214.0</td>\n      <td>140.0</td>\n      <td>109</td>\n      <td>61</td>\n      <td>98</td>\n      <td>82</td>\n      <td>—</td>\n    </tr>\n  </tbody>\n</table>\n</div>"
     },
     "execution_count": 7,
     "metadata": {},
     "output_type": "execute_result"
    }
   ]
  },
  {
   "cell_type": "code",
   "source": [
    "r, c = df.shape\n",
    "\n",
    "print(f\"Q-ty rows: {r}\\nQ-ty cols: {c}\")\n"
   ],
   "metadata": {
    "colab": {
     "base_uri": "https://localhost:8080/"
    },
    "id": "RFqNKxCtu0hb",
    "outputId": "6b85795c-8c4a-4a67-e449-5cd928f032cd",
    "ExecuteTime": {
     "end_time": "2023-10-08T12:58:42.604230100Z",
     "start_time": "2023-10-08T12:58:42.582108Z"
    }
   },
   "execution_count": 8,
   "outputs": [
    {
     "name": "stdout",
     "output_type": "stream",
     "text": [
      "Q-ty rows: 28\n",
      "Q-ty cols: 9\n"
     ]
    }
   ]
  },
  {
   "cell_type": "code",
   "source": [
    "df.replace(\"—\", np.nan, inplace=True)\n",
    "print(df)"
   ],
   "metadata": {
    "colab": {
     "base_uri": "https://localhost:8080/"
    },
    "id": "0xXPDOinvBqm",
    "outputId": "ed39f8e9-7569-4d8b-acae-154cd2d0db97",
    "ExecuteTime": {
     "end_time": "2023-10-08T12:58:45.333951100Z",
     "start_time": "2023-10-08T12:58:45.319908800Z"
    }
   },
   "execution_count": 9,
   "outputs": [
    {
     "name": "stdout",
     "output_type": "stream",
     "text": [
      "               Регіон   1950   1960   1970  1990  2000  2012 2014 2019\n",
      "0                Крим  230.0  206.0  160.0   130    73   126  NaN  NaN\n",
      "1           Вінницька  224.0  192.0  142.0   124    84   112  109   76\n",
      "2           Волинська  247.0  250.0  179.0   153   112   148  141  101\n",
      "3    Дніпропетровська  204.0  204.0  151.0   123    71   112  111   71\n",
      "4            Донецька  271.0  214.0  140.0   109    61    98   82  NaN\n",
      "5         Житомирська  261.0  223.0  159.0   129    89   122  120   79\n",
      "6        Закарпатська  314.0  273.0  207.0   168   115   151  146  104\n",
      "7          Запорізька  219.0  197.0  150.0   124    71   106  106   68\n",
      "8   Івано-Франківська  243.0  248.0  182.0   155   103   124  122   88\n",
      "9            Київська  204.0  189.0  156.0   123    73   122  121   80\n",
      "10     Кіровоградська  216.0  171.0  145.0   126    79   110  108   68\n",
      "11          Луганська  262.0  235.0  144.0   116    62    96   51  NaN\n",
      "12          Львівська  234.0  240.0  171.0   140    91   119  119   87\n",
      "13       Миколаївська  211.0  194.0  155.0   137    80   115  112   71\n",
      "14            Одеська  241.0  192.0  148.0   126    80   127  123   88\n",
      "15         Полтавська  186.0  163.0  131.0   118    70    99  100   65\n",
      "16         Рівненська  269.0  267.0  193.0   158   118   159  148  107\n",
      "17            Сумська  216.0  184.0  132.0   115    70    97   92   60\n",
      "18      Тернопільська  213.0  216.0  157.0   142    92   113  109   76\n",
      "19         Харківська  197.0  173.0  140.0   114    68    99  101   68\n",
      "20         Херсонська  208.0  214.0  166.0   143    85   117  115   81\n",
      "21        Хмельницька  234.0  198.0  148.0   129    85   113  112   79\n",
      "22          Черкаська  205.0  179.0  144.0   123    75   100   98   64\n",
      "23        Чернівецька  247.0  218.0  170.0   148   101   128  129   92\n",
      "24       Чернігівська  220.0  183.0  127.0   108    69    94   90   61\n",
      "25               Київ    NaN  174.0  159.0   120    73   120  121  110\n",
      "26        Севастополь    NaN    NaN    NaN   125    70   120  NaN  NaN\n",
      "27            Україна  228.0  205.0  152.0   126    78   114  111   81\n"
     ]
    }
   ]
  },
  {
   "cell_type": "code",
   "source": [
    "df.dtypes"
   ],
   "metadata": {
    "colab": {
     "base_uri": "https://localhost:8080/"
    },
    "id": "x05-uSD-vIgB",
    "outputId": "006b3526-dfa5-45af-9bc9-e4603741e30f",
    "ExecuteTime": {
     "end_time": "2023-10-08T12:58:47.238949300Z",
     "start_time": "2023-10-08T12:58:47.220553400Z"
    }
   },
   "execution_count": 10,
   "outputs": [
    {
     "data": {
      "text/plain": "Регіон     object\n1950      float64\n1960      float64\n1970      float64\n1990        int64\n2000        int64\n2012        int64\n2014       object\n2019       object\ndtype: object"
     },
     "execution_count": 10,
     "metadata": {},
     "output_type": "execute_result"
    }
   ]
  },
  {
   "cell_type": "code",
   "source": [
    "numeric_columns = df.columns[1:]\n",
    "df[numeric_columns] = df[numeric_columns].apply(pd.to_numeric, errors='coerce').astype(float)\n",
    "print(df)\n",
    "df.dtypes"
   ],
   "metadata": {
    "colab": {
     "base_uri": "https://localhost:8080/"
    },
    "id": "a4GWRX_GvS81",
    "outputId": "3f874c3d-b4c6-4c3f-8b1d-d51891c7ba35",
    "ExecuteTime": {
     "end_time": "2023-10-08T12:58:48.924097700Z",
     "start_time": "2023-10-08T12:58:48.903654300Z"
    }
   },
   "execution_count": 11,
   "outputs": [
    {
     "name": "stdout",
     "output_type": "stream",
     "text": [
      "               Регіон   1950   1960   1970   1990   2000   2012   2014   2019\n",
      "0                Крим  230.0  206.0  160.0  130.0   73.0  126.0    NaN    NaN\n",
      "1           Вінницька  224.0  192.0  142.0  124.0   84.0  112.0  109.0   76.0\n",
      "2           Волинська  247.0  250.0  179.0  153.0  112.0  148.0  141.0  101.0\n",
      "3    Дніпропетровська  204.0  204.0  151.0  123.0   71.0  112.0  111.0   71.0\n",
      "4            Донецька  271.0  214.0  140.0  109.0   61.0   98.0   82.0    NaN\n",
      "5         Житомирська  261.0  223.0  159.0  129.0   89.0  122.0  120.0   79.0\n",
      "6        Закарпатська  314.0  273.0  207.0  168.0  115.0  151.0  146.0  104.0\n",
      "7          Запорізька  219.0  197.0  150.0  124.0   71.0  106.0  106.0   68.0\n",
      "8   Івано-Франківська  243.0  248.0  182.0  155.0  103.0  124.0  122.0   88.0\n",
      "9            Київська  204.0  189.0  156.0  123.0   73.0  122.0  121.0   80.0\n",
      "10     Кіровоградська  216.0  171.0  145.0  126.0   79.0  110.0  108.0   68.0\n",
      "11          Луганська  262.0  235.0  144.0  116.0   62.0   96.0   51.0    NaN\n",
      "12          Львівська  234.0  240.0  171.0  140.0   91.0  119.0  119.0   87.0\n",
      "13       Миколаївська  211.0  194.0  155.0  137.0   80.0  115.0  112.0   71.0\n",
      "14            Одеська  241.0  192.0  148.0  126.0   80.0  127.0  123.0   88.0\n",
      "15         Полтавська  186.0  163.0  131.0  118.0   70.0   99.0  100.0   65.0\n",
      "16         Рівненська  269.0  267.0  193.0  158.0  118.0  159.0  148.0  107.0\n",
      "17            Сумська  216.0  184.0  132.0  115.0   70.0   97.0   92.0   60.0\n",
      "18      Тернопільська  213.0  216.0  157.0  142.0   92.0  113.0  109.0   76.0\n",
      "19         Харківська  197.0  173.0  140.0  114.0   68.0   99.0  101.0   68.0\n",
      "20         Херсонська  208.0  214.0  166.0  143.0   85.0  117.0  115.0   81.0\n",
      "21        Хмельницька  234.0  198.0  148.0  129.0   85.0  113.0  112.0   79.0\n",
      "22          Черкаська  205.0  179.0  144.0  123.0   75.0  100.0   98.0   64.0\n",
      "23        Чернівецька  247.0  218.0  170.0  148.0  101.0  128.0  129.0   92.0\n",
      "24       Чернігівська  220.0  183.0  127.0  108.0   69.0   94.0   90.0   61.0\n",
      "25               Київ    NaN  174.0  159.0  120.0   73.0  120.0  121.0  110.0\n",
      "26        Севастополь    NaN    NaN    NaN  125.0   70.0  120.0    NaN    NaN\n",
      "27            Україна  228.0  205.0  152.0  126.0   78.0  114.0  111.0   81.0\n"
     ]
    },
    {
     "data": {
      "text/plain": "Регіон     object\n1950      float64\n1960      float64\n1970      float64\n1990      float64\n2000      float64\n2012      float64\n2014      float64\n2019      float64\ndtype: object"
     },
     "execution_count": 11,
     "metadata": {},
     "output_type": "execute_result"
    }
   ]
  },
  {
   "cell_type": "code",
   "source": [
    "(df.isnull().sum() / len(df)) * 100"
   ],
   "metadata": {
    "colab": {
     "base_uri": "https://localhost:8080/"
    },
    "id": "SaRK9icNwjdm",
    "outputId": "f285fb0f-7aab-457c-e58d-3a2333a16689",
    "ExecuteTime": {
     "end_time": "2023-10-08T12:58:50.592941200Z",
     "start_time": "2023-10-08T12:58:50.576915700Z"
    }
   },
   "execution_count": 12,
   "outputs": [
    {
     "data": {
      "text/plain": "Регіон     0.000000\n1950       7.142857\n1960       3.571429\n1970       3.571429\n1990       0.000000\n2000       0.000000\n2012       0.000000\n2014       7.142857\n2019      14.285714\ndtype: float64"
     },
     "execution_count": 12,
     "metadata": {},
     "output_type": "execute_result"
    }
   ]
  },
  {
   "cell_type": "code",
   "source": [
    "df.drop(df.index[-1], inplace=True)\n",
    "df.tail()"
   ],
   "metadata": {
    "colab": {
     "base_uri": "https://localhost:8080/",
     "height": 206
    },
    "id": "GYDdCi82wor7",
    "outputId": "7fe6e9ad-ab3d-4bba-8645-bb56600b9361",
    "ExecuteTime": {
     "end_time": "2023-10-08T12:58:52.011424400Z",
     "start_time": "2023-10-08T12:58:51.995399600Z"
    }
   },
   "execution_count": 13,
   "outputs": [
    {
     "data": {
      "text/plain": "          Регіон   1950   1960   1970   1990   2000   2012   2014   2019\n22     Черкаська  205.0  179.0  144.0  123.0   75.0  100.0   98.0   64.0\n23   Чернівецька  247.0  218.0  170.0  148.0  101.0  128.0  129.0   92.0\n24  Чернігівська  220.0  183.0  127.0  108.0   69.0   94.0   90.0   61.0\n25          Київ    NaN  174.0  159.0  120.0   73.0  120.0  121.0  110.0\n26   Севастополь    NaN    NaN    NaN  125.0   70.0  120.0    NaN    NaN",
      "text/html": "<div>\n<style scoped>\n    .dataframe tbody tr th:only-of-type {\n        vertical-align: middle;\n    }\n\n    .dataframe tbody tr th {\n        vertical-align: top;\n    }\n\n    .dataframe thead th {\n        text-align: right;\n    }\n</style>\n<table border=\"1\" class=\"dataframe\">\n  <thead>\n    <tr style=\"text-align: right;\">\n      <th></th>\n      <th>Регіон</th>\n      <th>1950</th>\n      <th>1960</th>\n      <th>1970</th>\n      <th>1990</th>\n      <th>2000</th>\n      <th>2012</th>\n      <th>2014</th>\n      <th>2019</th>\n    </tr>\n  </thead>\n  <tbody>\n    <tr>\n      <th>22</th>\n      <td>Черкаська</td>\n      <td>205.0</td>\n      <td>179.0</td>\n      <td>144.0</td>\n      <td>123.0</td>\n      <td>75.0</td>\n      <td>100.0</td>\n      <td>98.0</td>\n      <td>64.0</td>\n    </tr>\n    <tr>\n      <th>23</th>\n      <td>Чернівецька</td>\n      <td>247.0</td>\n      <td>218.0</td>\n      <td>170.0</td>\n      <td>148.0</td>\n      <td>101.0</td>\n      <td>128.0</td>\n      <td>129.0</td>\n      <td>92.0</td>\n    </tr>\n    <tr>\n      <th>24</th>\n      <td>Чернігівська</td>\n      <td>220.0</td>\n      <td>183.0</td>\n      <td>127.0</td>\n      <td>108.0</td>\n      <td>69.0</td>\n      <td>94.0</td>\n      <td>90.0</td>\n      <td>61.0</td>\n    </tr>\n    <tr>\n      <th>25</th>\n      <td>Київ</td>\n      <td>NaN</td>\n      <td>174.0</td>\n      <td>159.0</td>\n      <td>120.0</td>\n      <td>73.0</td>\n      <td>120.0</td>\n      <td>121.0</td>\n      <td>110.0</td>\n    </tr>\n    <tr>\n      <th>26</th>\n      <td>Севастополь</td>\n      <td>NaN</td>\n      <td>NaN</td>\n      <td>NaN</td>\n      <td>125.0</td>\n      <td>70.0</td>\n      <td>120.0</td>\n      <td>NaN</td>\n      <td>NaN</td>\n    </tr>\n  </tbody>\n</table>\n</div>"
     },
     "execution_count": 13,
     "metadata": {},
     "output_type": "execute_result"
    }
   ]
  },
  {
   "cell_type": "code",
   "source": [
    "numeric_columns = df.columns[1:]\n",
    "df[numeric_columns] = df[numeric_columns].apply(pd.to_numeric, errors='coerce')\n",
    "df[numeric_columns] = df[numeric_columns].fillna(df[numeric_columns].mean())\n",
    "print(df)"
   ],
   "metadata": {
    "colab": {
     "base_uri": "https://localhost:8080/"
    },
    "id": "4a-Wa6eXwvQz",
    "outputId": "c39e2681-1569-4d57-930d-7e2e386049a3",
    "ExecuteTime": {
     "end_time": "2023-10-08T12:58:53.772228700Z",
     "start_time": "2023-10-08T12:58:53.762703500Z"
    }
   },
   "execution_count": 14,
   "outputs": [
    {
     "name": "stdout",
     "output_type": "stream",
     "text": [
      "               Регіон    1950        1960   1970   1990   2000   2012    2014  \\\n",
      "0                Крим  230.00  206.000000  160.0  130.0   73.0  126.0  111.44   \n",
      "1           Вінницька  224.00  192.000000  142.0  124.0   84.0  112.0  109.00   \n",
      "2           Волинська  247.00  250.000000  179.0  153.0  112.0  148.0  141.00   \n",
      "3    Дніпропетровська  204.00  204.000000  151.0  123.0   71.0  112.0  111.00   \n",
      "4            Донецька  271.00  214.000000  140.0  109.0   61.0   98.0   82.00   \n",
      "5         Житомирська  261.00  223.000000  159.0  129.0   89.0  122.0  120.00   \n",
      "6        Закарпатська  314.00  273.000000  207.0  168.0  115.0  151.0  146.00   \n",
      "7          Запорізька  219.00  197.000000  150.0  124.0   71.0  106.0  106.00   \n",
      "8   Івано-Франківська  243.00  248.000000  182.0  155.0  103.0  124.0  122.00   \n",
      "9            Київська  204.00  189.000000  156.0  123.0   73.0  122.0  121.00   \n",
      "10     Кіровоградська  216.00  171.000000  145.0  126.0   79.0  110.0  108.00   \n",
      "11          Луганська  262.00  235.000000  144.0  116.0   62.0   96.0   51.00   \n",
      "12          Львівська  234.00  240.000000  171.0  140.0   91.0  119.0  119.00   \n",
      "13       Миколаївська  211.00  194.000000  155.0  137.0   80.0  115.0  112.00   \n",
      "14            Одеська  241.00  192.000000  148.0  126.0   80.0  127.0  123.00   \n",
      "15         Полтавська  186.00  163.000000  131.0  118.0   70.0   99.0  100.00   \n",
      "16         Рівненська  269.00  267.000000  193.0  158.0  118.0  159.0  148.00   \n",
      "17            Сумська  216.00  184.000000  132.0  115.0   70.0   97.0   92.00   \n",
      "18      Тернопільська  213.00  216.000000  157.0  142.0   92.0  113.0  109.00   \n",
      "19         Харківська  197.00  173.000000  140.0  114.0   68.0   99.0  101.00   \n",
      "20         Херсонська  208.00  214.000000  166.0  143.0   85.0  117.0  115.00   \n",
      "21        Хмельницька  234.00  198.000000  148.0  129.0   85.0  113.0  112.00   \n",
      "22          Черкаська  205.00  179.000000  144.0  123.0   75.0  100.0   98.00   \n",
      "23        Чернівецька  247.00  218.000000  170.0  148.0  101.0  128.0  129.00   \n",
      "24       Чернігівська  220.00  183.000000  127.0  108.0   69.0   94.0   90.00   \n",
      "25               Київ  231.04  174.000000  159.0  120.0   73.0  120.0  121.00   \n",
      "26        Севастополь  231.04  207.576923  156.0  125.0   70.0  120.0  111.44   \n",
      "\n",
      "          2019  \n",
      "0    80.173913  \n",
      "1    76.000000  \n",
      "2   101.000000  \n",
      "3    71.000000  \n",
      "4    80.173913  \n",
      "5    79.000000  \n",
      "6   104.000000  \n",
      "7    68.000000  \n",
      "8    88.000000  \n",
      "9    80.000000  \n",
      "10   68.000000  \n",
      "11   80.173913  \n",
      "12   87.000000  \n",
      "13   71.000000  \n",
      "14   88.000000  \n",
      "15   65.000000  \n",
      "16  107.000000  \n",
      "17   60.000000  \n",
      "18   76.000000  \n",
      "19   68.000000  \n",
      "20   81.000000  \n",
      "21   79.000000  \n",
      "22   64.000000  \n",
      "23   92.000000  \n",
      "24   61.000000  \n",
      "25  110.000000  \n",
      "26   80.173913  \n"
     ]
    }
   ]
  },
  {
   "cell_type": "code",
   "source": [
    "cond = df[\"2019\"] > df.mean(numeric_only=True)[\"2019\"]\n",
    "df[cond][\"Регіон\"].tolist()"
   ],
   "metadata": {
    "colab": {
     "base_uri": "https://localhost:8080/"
    },
    "id": "LBc1R1aExyrT",
    "outputId": "76530353-34d2-4332-8057-01aa9ea90a78",
    "ExecuteTime": {
     "end_time": "2023-10-08T12:58:55.226255100Z",
     "start_time": "2023-10-08T12:58:55.200995Z"
    }
   },
   "execution_count": 15,
   "outputs": [
    {
     "data": {
      "text/plain": "['Волинська',\n 'Закарпатська',\n 'Івано-Франківська',\n 'Львівська',\n 'Одеська',\n 'Рівненська',\n 'Херсонська',\n 'Чернівецька',\n 'Київ']"
     },
     "execution_count": 15,
     "metadata": {},
     "output_type": "execute_result"
    }
   ]
  },
  {
   "cell_type": "code",
   "source": [
    "df.loc[df[\"2014\"].idxmax(), \"Регіон\"]"
   ],
   "metadata": {
    "colab": {
     "base_uri": "https://localhost:8080/",
     "height": 36
    },
    "id": "rfIh6UI9yVlw",
    "outputId": "d9f10e1c-6ba5-4401-f7c3-9ffd232800e2",
    "ExecuteTime": {
     "end_time": "2023-10-08T12:58:56.536091900Z",
     "start_time": "2023-10-08T12:58:56.522460700Z"
    }
   },
   "execution_count": 16,
   "outputs": [
    {
     "data": {
      "text/plain": "'Рівненська'"
     },
     "execution_count": 16,
     "metadata": {},
     "output_type": "execute_result"
    }
   ]
  },
  {
   "cell_type": "code",
   "source": [
    "plt.figure(figsize=(12, 6))\n",
    "plt.bar(df['Регіон'], df['2019'])\n",
    "plt.xticks(rotation=90)\n",
    "plt.xlabel('Регіон')\n",
    "plt.ylabel('Народжуваність в 2019 році')\n",
    "plt.title('Народжуваність по регіонах в 2019 році')\n",
    "plt.tight_layout()\n",
    "\n",
    "plt.show()"
   ],
   "metadata": {
    "colab": {
     "base_uri": "https://localhost:8080/",
     "height": 607
    },
    "id": "cI5ul0wny1rp",
    "outputId": "b14bf0df-b988-4d64-fc2d-fa5ea448d83d",
    "ExecuteTime": {
     "end_time": "2023-10-08T12:58:58.009526800Z",
     "start_time": "2023-10-08T12:58:57.511940300Z"
    }
   },
   "execution_count": 17,
   "outputs": [
    {
     "data": {
      "text/plain": "<Figure size 1200x600 with 1 Axes>",
      "image/png": "[encoded data removed]"
     },
     "metadata": {},
     "output_type": "display_data"
    }
   ]
  },
  {
   "cell_type": "code",
   "execution_count": null,
   "outputs": [],
   "source": [],
   "metadata": {
    "collapsed": false
   }
  }
 ]
}
