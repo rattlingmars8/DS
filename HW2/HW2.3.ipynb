{
 "cells": [
  {
   "cell_type": "code",
   "execution_count": null,
   "outputs": [],
   "source": [
    "import pandas as pd\n",
    "import matplotlib.pyplot as plt\n",
    "\n",
    "df = pd.read_csv('bestsellers with categories.csv')\n",
    "\n",
    "# Display the first five rows\n",
    "df.head()"
   ],
   "metadata": {
    "collapsed": false
   }
  },
  {
   "cell_type": "code",
   "execution_count": null,
   "outputs": [],
   "source": [
    "df.shape"
   ],
   "metadata": {
    "collapsed": false
   }
  },
  {
   "cell_type": "markdown",
   "source": [
    "Набір даних містить 550 книг з 7 змінними (стовпчиками) для кожної книги.\n",
    "\n",
    "Дайте відповідь: Скільки книг містить набір даних?\n",
    "Набір даних містить 550 книг.\n",
    "\n"
   ],
   "metadata": {
    "collapsed": false
   }
  },
  {
   "cell_type": "code",
   "execution_count": null,
   "outputs": [],
   "source": [
    "\n",
    "df.columns = ['name', 'author', 'user_rating', 'reviews', 'price', 'year', 'genre']\n",
    "df.head()\n"
   ],
   "metadata": {
    "collapsed": false
   }
  },
  {
   "cell_type": "markdown",
   "source": [
    "# Первинне дослідження даних"
   ],
   "metadata": {
    "collapsed": false
   }
  },
  {
   "cell_type": "markdown",
   "source": [
    "### 1. Перевіре, чи у всіх рядків вистачає даних: виведіть кількість пропусків (na) у кожному зі стовпців"
   ],
   "metadata": {
    "collapsed": false
   }
  },
  {
   "cell_type": "code",
   "execution_count": null,
   "outputs": [],
   "source": [
    "missing_values = df.isna().sum()\n",
    "missing_values"
   ],
   "metadata": {
    "collapsed": false
   }
  },
  {
   "cell_type": "markdown",
   "source": [],
   "metadata": {
    "collapsed": false
   }
  },
  {
   "cell_type": "markdown",
   "source": [
    "### Відповідь\n",
    "1. Немає пропущених даних"
   ],
   "metadata": {
    "collapsed": false
   }
  },
  {
   "cell_type": "markdown",
   "source": [
    "### 2. Перевірте, які є унікальні значення в колонці `genre`"
   ],
   "metadata": {
    "collapsed": false
   }
  },
  {
   "cell_type": "code",
   "execution_count": null,
   "outputs": [],
   "source": [
    "unique_genres = df[\"genre\"].unique()\n",
    "unique_genres"
   ],
   "metadata": {
    "collapsed": false
   }
  },
  {
   "cell_type": "markdown",
   "source": [
    "### Відповідь\n",
    "2. Є два унікальні жанри: Non Fiction, Fiction"
   ],
   "metadata": {
    "collapsed": false
   }
  },
  {
   "cell_type": "markdown",
   "source": [
    "### 3. Тепер подивіться на розподіл цін: побудуйте діаграму (використовуйте kind='hist')\n"
   ],
   "metadata": {
    "collapsed": false
   }
  },
  {
   "cell_type": "code",
   "execution_count": null,
   "outputs": [],
   "source": [
    "plt.figure(figsize=(10,6))\n",
    "df[\"price\"].plot(kind=\"hist\", bins=30, edgecolor=\"black\", color=\"skyblue\")\n",
    "plt.title(\"Розподіл цін\")\n",
    "plt.xlabel(\"Ціна ($)\")\n",
    "plt.ylabel(\"К-ть книжок\")\n",
    "plt.grid(True, which=\"both\", linewidth=0.5)\n",
    "plt.show()"
   ],
   "metadata": {
    "collapsed": false
   }
  },
  {
   "cell_type": "markdown",
   "source": [
    "### 4. Визначте, яка ціна у нас максимальна, мінімальна, середня, медіанна"
   ],
   "metadata": {
    "collapsed": false
   }
  },
  {
   "cell_type": "code",
   "execution_count": 22,
   "outputs": [
    {
     "data": {
      "text/plain": "(105, 0, 13.1, 11.0)"
     },
     "execution_count": 22,
     "metadata": {},
     "output_type": "execute_result"
    }
   ],
   "source": [
    "max_price = df['price'].max()\n",
    "min_price = df['price'].min()\n",
    "mean_price = df['price'].mean()\n",
    "median_price = df['price'].median()\n",
    "\n",
    "max_price, min_price, mean_price, median_price"
   ],
   "metadata": {
    "collapsed": false,
    "ExecuteTime": {
     "end_time": "2023-10-08T14:55:09.275243200Z",
     "start_time": "2023-10-08T14:55:09.262972700Z"
    }
   }
  },
  {
   "cell_type": "markdown",
   "source": [
    "### Відповідь\n",
    "\n",
    " 4.1 Максимальна ціна?\n",
    "    105\n",
    " 4.2. Мінімальна ціна?\n",
    "    0\n",
    " 4.3. Середня ціна?\n",
    "    13,1\n",
    " 4.4 Медіанна ціна?\n",
    "    11,0"
   ],
   "metadata": {
    "collapsed": false
   }
  },
  {
   "cell_type": "markdown",
   "source": [
    "# Пошук та сортування даних"
   ],
   "metadata": {
    "collapsed": false
   }
  },
  {
   "cell_type": "markdown",
   "source": [
    "### 1. Який рейтинг у датасеті найвищий?"
   ],
   "metadata": {
    "collapsed": false
   }
  },
  {
   "cell_type": "code",
   "execution_count": 24,
   "outputs": [
    {
     "name": "stdout",
     "output_type": "stream",
     "text": [
      "Відповідь: 4.9\n"
     ]
    }
   ],
   "source": [
    "highest_rating = df['user_rating'].max()\n",
    "print(f\"Відповідь: {highest_rating}\")"
   ],
   "metadata": {
    "collapsed": false,
    "ExecuteTime": {
     "end_time": "2023-10-08T15:00:16.000366Z",
     "start_time": "2023-10-08T15:00:15.995856100Z"
    }
   }
  },
  {
   "cell_type": "markdown",
   "source": [
    "### 2.  Скільки книг мають такий рейтинг?"
   ],
   "metadata": {
    "collapsed": false
   }
  },
  {
   "cell_type": "code",
   "execution_count": 25,
   "outputs": [
    {
     "name": "stdout",
     "output_type": "stream",
     "text": [
      "Відповідь: 52\n"
     ]
    }
   ],
   "source": [
    "books_HR = df[df['user_rating'] == highest_rating].shape[0]\n",
    "print(f\"Відповідь: {books_HR}\")"
   ],
   "metadata": {
    "collapsed": false,
    "ExecuteTime": {
     "end_time": "2023-10-08T15:01:35.698305800Z",
     "start_time": "2023-10-08T15:01:35.668158200Z"
    }
   }
  },
  {
   "cell_type": "markdown",
   "source": [
    "### 3. Яка книга має найбільше відгуків?"
   ],
   "metadata": {
    "collapsed": false
   }
  },
  {
   "cell_type": "code",
   "execution_count": 28,
   "outputs": [
    {
     "name": "stdout",
     "output_type": "stream",
     "text": [
      "Відповідь: Це книга - 'Where the Crawdads Sing'\n"
     ]
    }
   ],
   "source": [
    "book_MR = df[df['reviews'] == df['reviews'].max()]['name'].iloc[0]\n",
    "print(f\"Відповідь: Це книга - '{book_MR}'\")"
   ],
   "metadata": {
    "collapsed": false,
    "ExecuteTime": {
     "end_time": "2023-10-08T15:04:03.402567400Z",
     "start_time": "2023-10-08T15:04:03.388956700Z"
    }
   }
  },
  {
   "cell_type": "markdown",
   "source": [
    "### 4.  З тих книг, що потрапили до Топ-50 у 2015 році, яка книга найдорожча"
   ],
   "metadata": {
    "collapsed": false
   }
  },
  {
   "cell_type": "code",
   "execution_count": 29,
   "outputs": [
    {
     "name": "stdout",
     "output_type": "stream",
     "text": [
      "Відповідь: Це книга - 'Publication Manual of the American Psychological Association, 6th Edition'\n"
     ]
    }
   ],
   "source": [
    "most_expensive_book_2015 = df[df[\"year\"] == 2015].sort_values(by=\"price\", ascending=False).iloc[0][\"name\"]\n",
    "print(f\"Відповідь: Це книга - '{most_expensive_book_2015}'\")"
   ],
   "metadata": {
    "collapsed": false,
    "ExecuteTime": {
     "end_time": "2023-10-08T15:09:09.544270300Z",
     "start_time": "2023-10-08T15:09:09.506834100Z"
    }
   }
  },
  {
   "cell_type": "markdown",
   "source": [
    "### 5. Cкільки книг жанру Fiction потрапили до Топ-50 у 2010 році\n"
   ],
   "metadata": {
    "collapsed": false
   }
  },
  {
   "cell_type": "code",
   "execution_count": 31,
   "outputs": [
    {
     "name": "stdout",
     "output_type": "stream",
     "text": [
      "Відповідь: 20 книг.\n"
     ]
    }
   ],
   "source": [
    "answer = df[(df['year'] == 2010) & (df['genre'] == 'Fiction')].shape[0]\n",
    "print(f\"Відповідь: {answer} книг.\")"
   ],
   "metadata": {
    "collapsed": false,
    "ExecuteTime": {
     "end_time": "2023-10-08T15:12:27.077996200Z",
     "start_time": "2023-10-08T15:12:27.073956400Z"
    }
   }
  },
  {
   "cell_type": "markdown",
   "source": [
    "### 6. Скільки книг з рейтингом 4.9 потрапило до рейтингу у 2010 та 2011 роках"
   ],
   "metadata": {
    "collapsed": false
   }
  },
  {
   "cell_type": "code",
   "execution_count": 43,
   "outputs": [
    {
     "name": "stdout",
     "output_type": "stream",
     "text": [
      "Відповідь: 1 книг.\n"
     ]
    }
   ],
   "source": [
    "answer6 = df[(df['user_rating'] == 4.9) & (df['year'].isin((2010, 2011)))].shape[0]\n",
    "print(f\"Відповідь: {answer6} книг.\")"
   ],
   "metadata": {
    "collapsed": false,
    "ExecuteTime": {
     "end_time": "2023-10-08T15:19:01.593245700Z",
     "start_time": "2023-10-08T15:19:01.576762700Z"
    }
   }
  },
  {
   "cell_type": "markdown",
   "source": [
    "### 7. Давайте відсортуємо за зростанням ціни всі книги, які потрапили до рейтингу в 2015 році і коштують дешевше за 8 доларів.  Яка книга остання у відсортованому списку?"
   ],
   "metadata": {
    "collapsed": false
   }
  },
  {
   "cell_type": "code",
   "execution_count": 45,
   "outputs": [
    {
     "name": "stdout",
     "output_type": "stream",
     "text": [
      "Відповідь: Остання книга у списку - 'Old School (Diary of a Wimpy Kid #10)'\n"
     ]
    }
   ],
   "source": [
    "answer7 = df[(df['year'] == 2015) & (df['price'] < 8)].sort_values(by='price').iloc[-1]['name']\n",
    "print(f\"Відповідь: Остання книга у списку - '{answer7}'\")"
   ],
   "metadata": {
    "collapsed": false,
    "ExecuteTime": {
     "end_time": "2023-10-08T15:22:39.619714200Z",
     "start_time": "2023-10-08T15:22:39.607291Z"
    }
   }
  },
  {
   "cell_type": "code",
   "execution_count": null,
   "outputs": [],
   "source": [],
   "metadata": {
    "collapsed": false
   }
  }
 ],
 "metadata": {
  "kernelspec": {
   "display_name": "Python 3",
   "language": "python",
   "name": "python3"
  },
  "language_info": {
   "codemirror_mode": {
    "name": "ipython",
    "version": 2
   },
   "file_extension": ".py",
   "mimetype": "text/x-python",
   "name": "python",
   "nbconvert_exporter": "python",
   "pygments_lexer": "ipython2",
   "version": "2.7.6"
  }
 },
 "nbformat": 4,
 "nbformat_minor": 0
}
