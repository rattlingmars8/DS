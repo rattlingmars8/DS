{
 "cells": [
  {
   "cell_type": "code",
   "execution_count": 74,
   "outputs": [
    {
     "data": {
      "text/plain": "                                                Name  \\\n0                      10-Day Green Smoothie Cleanse   \n1                                  11/22/63: A Novel   \n2            12 Rules for Life: An Antidote to Chaos   \n3                             1984 (Signet Classics)   \n4  5,000 Awesome Facts (About Everything!) (Natio...   \n\n                     Author  User Rating  Reviews  Price  Year        Genre  \n0                  JJ Smith          4.7    17350      8  2016  Non Fiction  \n1              Stephen King          4.6     2052     22  2011      Fiction  \n2        Jordan B. Peterson          4.7    18979     15  2018  Non Fiction  \n3             George Orwell          4.7    21424      6  2017      Fiction  \n4  National Geographic Kids          4.8     7665     12  2019  Non Fiction  ",
      "text/html": "<div>\n<style scoped>\n    .dataframe tbody tr th:only-of-type {\n        vertical-align: middle;\n    }\n\n    .dataframe tbody tr th {\n        vertical-align: top;\n    }\n\n    .dataframe thead th {\n        text-align: right;\n    }\n</style>\n<table border=\"1\" class=\"dataframe\">\n  <thead>\n    <tr style=\"text-align: right;\">\n      <th></th>\n      <th>Name</th>\n      <th>Author</th>\n      <th>User Rating</th>\n      <th>Reviews</th>\n      <th>Price</th>\n      <th>Year</th>\n      <th>Genre</th>\n    </tr>\n  </thead>\n  <tbody>\n    <tr>\n      <th>0</th>\n      <td>10-Day Green Smoothie Cleanse</td>\n      <td>JJ Smith</td>\n      <td>4.7</td>\n      <td>17350</td>\n      <td>8</td>\n      <td>2016</td>\n      <td>Non Fiction</td>\n    </tr>\n    <tr>\n      <th>1</th>\n      <td>11/22/63: A Novel</td>\n      <td>Stephen King</td>\n      <td>4.6</td>\n      <td>2052</td>\n      <td>22</td>\n      <td>2011</td>\n      <td>Fiction</td>\n    </tr>\n    <tr>\n      <th>2</th>\n      <td>12 Rules for Life: An Antidote to Chaos</td>\n      <td>Jordan B. Peterson</td>\n      <td>4.7</td>\n      <td>18979</td>\n      <td>15</td>\n      <td>2018</td>\n      <td>Non Fiction</td>\n    </tr>\n    <tr>\n      <th>3</th>\n      <td>1984 (Signet Classics)</td>\n      <td>George Orwell</td>\n      <td>4.7</td>\n      <td>21424</td>\n      <td>6</td>\n      <td>2017</td>\n      <td>Fiction</td>\n    </tr>\n    <tr>\n      <th>4</th>\n      <td>5,000 Awesome Facts (About Everything!) (Natio...</td>\n      <td>National Geographic Kids</td>\n      <td>4.8</td>\n      <td>7665</td>\n      <td>12</td>\n      <td>2019</td>\n      <td>Non Fiction</td>\n    </tr>\n  </tbody>\n</table>\n</div>"
     },
     "execution_count": 74,
     "metadata": {},
     "output_type": "execute_result"
    }
   ],
   "source": [
    "import pandas as pd\n",
    "import matplotlib.pyplot as plt\n",
    "\n",
    "df = pd.read_csv('bestsellers with categories.csv')\n",
    "\n",
    "# Display the first five rows\n",
    "df.head()"
   ],
   "metadata": {
    "collapsed": false,
    "ExecuteTime": {
     "end_time": "2023-10-08T16:11:26.362689200Z",
     "start_time": "2023-10-08T16:11:26.067966Z"
    }
   }
  },
  {
   "cell_type": "code",
   "execution_count": 75,
   "outputs": [
    {
     "data": {
      "text/plain": "(550, 7)"
     },
     "execution_count": 75,
     "metadata": {},
     "output_type": "execute_result"
    }
   ],
   "source": [
    "df.shape"
   ],
   "metadata": {
    "collapsed": false,
    "ExecuteTime": {
     "end_time": "2023-10-08T16:11:26.363688400Z",
     "start_time": "2023-10-08T16:11:26.091510400Z"
    }
   }
  },
  {
   "cell_type": "markdown",
   "source": [
    "Набір даних містить 550 книг з 7 змінними (стовпчиками) для кожної книги.\n",
    "\n",
    "Дайте відповідь: Скільки книг містить набір даних?\n",
    "Набір даних містить 550 книг.\n",
    "\n"
   ],
   "metadata": {
    "collapsed": false
   }
  },
  {
   "cell_type": "code",
   "execution_count": 76,
   "outputs": [
    {
     "data": {
      "text/plain": "                                                name  \\\n0                      10-Day Green Smoothie Cleanse   \n1                                  11/22/63: A Novel   \n2            12 Rules for Life: An Antidote to Chaos   \n3                             1984 (Signet Classics)   \n4  5,000 Awesome Facts (About Everything!) (Natio...   \n\n                     author  user_rating  reviews  price  year        genre  \n0                  JJ Smith          4.7    17350      8  2016  Non Fiction  \n1              Stephen King          4.6     2052     22  2011      Fiction  \n2        Jordan B. Peterson          4.7    18979     15  2018  Non Fiction  \n3             George Orwell          4.7    21424      6  2017      Fiction  \n4  National Geographic Kids          4.8     7665     12  2019  Non Fiction  ",
      "text/html": "<div>\n<style scoped>\n    .dataframe tbody tr th:only-of-type {\n        vertical-align: middle;\n    }\n\n    .dataframe tbody tr th {\n        vertical-align: top;\n    }\n\n    .dataframe thead th {\n        text-align: right;\n    }\n</style>\n<table border=\"1\" class=\"dataframe\">\n  <thead>\n    <tr style=\"text-align: right;\">\n      <th></th>\n      <th>name</th>\n      <th>author</th>\n      <th>user_rating</th>\n      <th>reviews</th>\n      <th>price</th>\n      <th>year</th>\n      <th>genre</th>\n    </tr>\n  </thead>\n  <tbody>\n    <tr>\n      <th>0</th>\n      <td>10-Day Green Smoothie Cleanse</td>\n      <td>JJ Smith</td>\n      <td>4.7</td>\n      <td>17350</td>\n      <td>8</td>\n      <td>2016</td>\n      <td>Non Fiction</td>\n    </tr>\n    <tr>\n      <th>1</th>\n      <td>11/22/63: A Novel</td>\n      <td>Stephen King</td>\n      <td>4.6</td>\n      <td>2052</td>\n      <td>22</td>\n      <td>2011</td>\n      <td>Fiction</td>\n    </tr>\n    <tr>\n      <th>2</th>\n      <td>12 Rules for Life: An Antidote to Chaos</td>\n      <td>Jordan B. Peterson</td>\n      <td>4.7</td>\n      <td>18979</td>\n      <td>15</td>\n      <td>2018</td>\n      <td>Non Fiction</td>\n    </tr>\n    <tr>\n      <th>3</th>\n      <td>1984 (Signet Classics)</td>\n      <td>George Orwell</td>\n      <td>4.7</td>\n      <td>21424</td>\n      <td>6</td>\n      <td>2017</td>\n      <td>Fiction</td>\n    </tr>\n    <tr>\n      <th>4</th>\n      <td>5,000 Awesome Facts (About Everything!) (Natio...</td>\n      <td>National Geographic Kids</td>\n      <td>4.8</td>\n      <td>7665</td>\n      <td>12</td>\n      <td>2019</td>\n      <td>Non Fiction</td>\n    </tr>\n  </tbody>\n</table>\n</div>"
     },
     "execution_count": 76,
     "metadata": {},
     "output_type": "execute_result"
    }
   ],
   "source": [
    "\n",
    "df.columns = ['name', 'author', 'user_rating', 'reviews', 'price', 'year', 'genre']\n",
    "df.head()\n"
   ],
   "metadata": {
    "collapsed": false,
    "ExecuteTime": {
     "end_time": "2023-10-08T16:11:26.363688400Z",
     "start_time": "2023-10-08T16:11:26.097897100Z"
    }
   }
  },
  {
   "cell_type": "markdown",
   "source": [
    "# Первинне дослідження даних"
   ],
   "metadata": {
    "collapsed": false
   }
  },
  {
   "cell_type": "markdown",
   "source": [
    "### 1. Перевіре, чи у всіх рядків вистачає даних: виведіть кількість пропусків (na) у кожному зі стовпців"
   ],
   "metadata": {
    "collapsed": false
   }
  },
  {
   "cell_type": "code",
   "execution_count": 77,
   "outputs": [
    {
     "data": {
      "text/plain": "name           0\nauthor         0\nuser_rating    0\nreviews        0\nprice          0\nyear           0\ngenre          0\ndtype: int64"
     },
     "execution_count": 77,
     "metadata": {},
     "output_type": "execute_result"
    }
   ],
   "source": [
    "missing_values = df.isna().sum()\n",
    "missing_values"
   ],
   "metadata": {
    "collapsed": false,
    "ExecuteTime": {
     "end_time": "2023-10-08T16:11:26.364689200Z",
     "start_time": "2023-10-08T16:11:26.108717500Z"
    }
   }
  },
  {
   "cell_type": "markdown",
   "source": [],
   "metadata": {
    "collapsed": false
   }
  },
  {
   "cell_type": "markdown",
   "source": [
    "### Відповідь\n",
    "1. Немає пропущених даних"
   ],
   "metadata": {
    "collapsed": false
   }
  },
  {
   "cell_type": "markdown",
   "source": [
    "### 2. Перевірте, які є унікальні значення в колонці `genre`"
   ],
   "metadata": {
    "collapsed": false
   }
  },
  {
   "cell_type": "code",
   "execution_count": 78,
   "outputs": [
    {
     "data": {
      "text/plain": "array(['Non Fiction', 'Fiction'], dtype=object)"
     },
     "execution_count": 78,
     "metadata": {},
     "output_type": "execute_result"
    }
   ],
   "source": [
    "unique_genres = df[\"genre\"].unique()\n",
    "unique_genres"
   ],
   "metadata": {
    "collapsed": false,
    "ExecuteTime": {
     "end_time": "2023-10-08T16:11:26.366274100Z",
     "start_time": "2023-10-08T16:11:26.120710600Z"
    }
   }
  },
  {
   "cell_type": "markdown",
   "source": [
    "### Відповідь\n",
    "2. Є два унікальні жанри: Non Fiction, Fiction"
   ],
   "metadata": {
    "collapsed": false
   }
  },
  {
   "cell_type": "markdown",
   "source": [
    "### 3. Тепер подивіться на розподіл цін: побудуйте діаграму (використовуйте kind='hist')\n"
   ],
   "metadata": {
    "collapsed": false
   }
  },
  {
   "cell_type": "code",
   "execution_count": 79,
   "outputs": [
    {
     "data": {
      "text/plain": "<Figure size 1000x600 with 1 Axes>",
      "image/png": "[encoded data removed]"
     },
     "metadata": {},
     "output_type": "display_data"
    }
   ],
   "source": [
    "plt.figure(figsize=(10,6))\n",
    "df[\"price\"].plot(kind=\"hist\", bins=30, edgecolor=\"black\", color=\"skyblue\")\n",
    "plt.title(\"Розподіл цін\")\n",
    "plt.xlabel(\"Ціна ($)\")\n",
    "plt.ylabel(\"К-ть книжок\")\n",
    "plt.grid(True, which=\"both\", linewidth=0.5)\n",
    "plt.show()"
   ],
   "metadata": {
    "collapsed": false,
    "ExecuteTime": {
     "end_time": "2023-10-08T16:11:26.422870300Z",
     "start_time": "2023-10-08T16:11:26.135127400Z"
    }
   }
  },
  {
   "cell_type": "markdown",
   "source": [
    "### 4. Визначте, яка ціна у нас максимальна, мінімальна, середня, медіанна"
   ],
   "metadata": {
    "collapsed": false
   }
  },
  {
   "cell_type": "code",
   "execution_count": 80,
   "outputs": [
    {
     "data": {
      "text/plain": "(105, 0, 13.1, 11.0)"
     },
     "execution_count": 80,
     "metadata": {},
     "output_type": "execute_result"
    }
   ],
   "source": [
    "max_price = df['price'].max()\n",
    "min_price = df['price'].min()\n",
    "mean_price = df['price'].mean()\n",
    "median_price = df['price'].median()\n",
    "\n",
    "max_price, min_price, mean_price, median_price"
   ],
   "metadata": {
    "collapsed": false,
    "ExecuteTime": {
     "end_time": "2023-10-08T16:11:26.422870300Z",
     "start_time": "2023-10-08T16:11:26.320459900Z"
    }
   }
  },
  {
   "cell_type": "markdown",
   "source": [
    "### Відповідь\n",
    "\n",
    " 4.1 Максимальна ціна?\n",
    "    105\n",
    " 4.2. Мінімальна ціна?\n",
    "    0\n",
    " 4.3. Середня ціна?\n",
    "    13,1\n",
    " 4.4 Медіанна ціна?\n",
    "    11,0"
   ],
   "metadata": {
    "collapsed": false
   }
  },
  {
   "cell_type": "markdown",
   "source": [
    "# Пошук та сортування даних"
   ],
   "metadata": {
    "collapsed": false
   }
  },
  {
   "cell_type": "markdown",
   "source": [
    "### 1. Який рейтинг у датасеті найвищий?"
   ],
   "metadata": {
    "collapsed": false
   }
  },
  {
   "cell_type": "code",
   "execution_count": 81,
   "outputs": [
    {
     "name": "stdout",
     "output_type": "stream",
     "text": [
      "Відповідь: 4.9\n"
     ]
    }
   ],
   "source": [
    "highest_rating = df['user_rating'].max()\n",
    "print(f\"Відповідь: {highest_rating}\")"
   ],
   "metadata": {
    "collapsed": false,
    "ExecuteTime": {
     "end_time": "2023-10-08T16:11:26.422870300Z",
     "start_time": "2023-10-08T16:11:26.326925900Z"
    }
   }
  },
  {
   "cell_type": "markdown",
   "source": [
    "### 2.  Скільки книг мають такий рейтинг?"
   ],
   "metadata": {
    "collapsed": false
   }
  },
  {
   "cell_type": "code",
   "execution_count": 82,
   "outputs": [
    {
     "name": "stdout",
     "output_type": "stream",
     "text": [
      "Відповідь: 52\n"
     ]
    }
   ],
   "source": [
    "books_HR = df[df['user_rating'] == highest_rating].shape[0]\n",
    "print(f\"Відповідь: {books_HR}\")"
   ],
   "metadata": {
    "collapsed": false,
    "ExecuteTime": {
     "end_time": "2023-10-08T16:11:26.422870300Z",
     "start_time": "2023-10-08T16:11:26.333938700Z"
    }
   }
  },
  {
   "cell_type": "markdown",
   "source": [
    "### 3. Яка книга має найбільше відгуків?"
   ],
   "metadata": {
    "collapsed": false
   }
  },
  {
   "cell_type": "code",
   "execution_count": 83,
   "outputs": [
    {
     "name": "stdout",
     "output_type": "stream",
     "text": [
      "Відповідь: Це книга - 'Where the Crawdads Sing'\n"
     ]
    }
   ],
   "source": [
    "book_MR = df[df['reviews'] == df['reviews'].max()]['name'].iloc[0]\n",
    "print(f\"Відповідь: Це книга - '{book_MR}'\")"
   ],
   "metadata": {
    "collapsed": false,
    "ExecuteTime": {
     "end_time": "2023-10-08T16:11:26.423872400Z",
     "start_time": "2023-10-08T16:11:26.337946200Z"
    }
   }
  },
  {
   "cell_type": "markdown",
   "source": [
    "### 4.  З тих книг, що потрапили до Топ-50 у 2015 році, яка книга найдорожча"
   ],
   "metadata": {
    "collapsed": false
   }
  },
  {
   "cell_type": "code",
   "execution_count": 84,
   "outputs": [
    {
     "name": "stdout",
     "output_type": "stream",
     "text": [
      "Відповідь: Це книга - 'Publication Manual of the American Psychological Association, 6th Edition'\n"
     ]
    }
   ],
   "source": [
    "most_expensive_book_2015 = df[df[\"year\"] == 2015].sort_values(by=\"price\", ascending=False).iloc[0][\"name\"]\n",
    "print(f\"Відповідь: Це книга - '{most_expensive_book_2015}'\")"
   ],
   "metadata": {
    "collapsed": false,
    "ExecuteTime": {
     "end_time": "2023-10-08T16:11:26.423872400Z",
     "start_time": "2023-10-08T16:11:26.344187200Z"
    }
   }
  },
  {
   "cell_type": "markdown",
   "source": [
    "### 5. Cкільки книг жанру Fiction потрапили до Топ-50 у 2010 році\n"
   ],
   "metadata": {
    "collapsed": false
   }
  },
  {
   "cell_type": "code",
   "execution_count": 85,
   "outputs": [
    {
     "name": "stdout",
     "output_type": "stream",
     "text": [
      "Відповідь: 20 книг.\n"
     ]
    }
   ],
   "source": [
    "answer = df[(df['year'] == 2010) & (df['genre'] == 'Fiction')].shape[0]\n",
    "print(f\"Відповідь: {answer} книг.\")"
   ],
   "metadata": {
    "collapsed": false,
    "ExecuteTime": {
     "end_time": "2023-10-08T16:11:26.423872400Z",
     "start_time": "2023-10-08T16:11:26.350765900Z"
    }
   }
  },
  {
   "cell_type": "markdown",
   "source": [
    "### 6. Скільки книг з рейтингом 4.9 потрапило до рейтингу у 2010 та 2011 роках"
   ],
   "metadata": {
    "collapsed": false
   }
  },
  {
   "cell_type": "code",
   "execution_count": 86,
   "outputs": [
    {
     "name": "stdout",
     "output_type": "stream",
     "text": [
      "Відповідь: 1 книг.\n"
     ]
    }
   ],
   "source": [
    "answer6 = df[(df['user_rating'] == 4.9) & (df['year'].isin((2010, 2011)))].shape[0]\n",
    "print(f\"Відповідь: {answer6} книг.\")"
   ],
   "metadata": {
    "collapsed": false,
    "ExecuteTime": {
     "end_time": "2023-10-08T16:11:26.423872400Z",
     "start_time": "2023-10-08T16:11:26.356592100Z"
    }
   }
  },
  {
   "cell_type": "markdown",
   "source": [
    "### 7. Давайте відсортуємо за зростанням ціни всі книги, які потрапили до рейтингу в 2015 році і коштують дешевше за 8 доларів.  Яка книга остання у відсортованому списку?"
   ],
   "metadata": {
    "collapsed": false
   }
  },
  {
   "cell_type": "code",
   "execution_count": 87,
   "outputs": [
    {
     "name": "stdout",
     "output_type": "stream",
     "text": [
      "Відповідь: Остання книга у списку - 'Old School (Diary of a Wimpy Kid #10)'\n"
     ]
    }
   ],
   "source": [
    "answer7 = df[(df['year'] == 2015) & (df['price'] < 8)].sort_values(by='price').iloc[-1]['name']\n",
    "print(f\"Відповідь: Остання книга у списку - '{answer7}'\")"
   ],
   "metadata": {
    "collapsed": false,
    "ExecuteTime": {
     "end_time": "2023-10-08T16:11:26.423872400Z",
     "start_time": "2023-10-08T16:11:26.365764300Z"
    }
   }
  },
  {
   "cell_type": "markdown",
   "source": [
    "# Агрегування даних та з'єднання таблиць"
   ],
   "metadata": {
    "collapsed": false
   }
  },
  {
   "cell_type": "markdown",
   "source": [
    "### 1. Для початку давайте подивимося на максимальну та мінімальну ціни для кожного з жанрів (використовуйте функції groupby та agg, для підрахунку мінімальних та максимальних значень використовуйте max та min). Не беріть усі стовпці, виберіть тільки потрібні вам"
   ],
   "metadata": {
    "collapsed": false
   }
  },
  {
   "cell_type": "code",
   "execution_count": 88,
   "outputs": [
    {
     "name": "stdout",
     "output_type": "stream",
     "text": [
      "Відповідь:\n",
      "             min  max\n",
      "genre                \n",
      "Fiction        0   82\n",
      "Non Fiction    0  105\n"
     ]
    }
   ],
   "source": [
    "answer3_1 = df.groupby('genre')['price'].agg(['min', 'max'])\n",
    "print(f\"Відповідь:\\n{answer3_1}\")"
   ],
   "metadata": {
    "collapsed": false,
    "ExecuteTime": {
     "end_time": "2023-10-08T16:11:26.424871200Z",
     "start_time": "2023-10-08T16:11:26.372327700Z"
    }
   }
  },
  {
   "cell_type": "markdown",
   "source": [
    "### 2. Тепер створіть новий датафрейм, який вміщатиме кількість книг для кожного з авторів (використовуйте функції groupby та agg, для підрахунку кількості використовуйте count). Не беріть усі стовпці, виберете тільки потрібні"
   ],
   "metadata": {
    "collapsed": false
   }
  },
  {
   "cell_type": "code",
   "execution_count": 89,
   "outputs": [
    {
     "name": "stdout",
     "output_type": "stream",
     "text": [
      "Якої розмірності вийшла таблиця?\n",
      "Відповідь: (248, 1)\n",
      "\n",
      "Який автор має найбільше книг?\n",
      "Відповідь: Jeff Kinney\n",
      "\n",
      "Скільки книг цього автора?\n",
      "Відповідь: 12\n",
      "\n"
     ]
    }
   ],
   "source": [
    "answer3_2 = df.groupby('author')['name'].agg(['count'])\n",
    "q_ty_by_author = answer3_2.sort_values(by=\"count\", ascending=False).iloc[0]\n",
    "print(f'Якої розмірності вийшла таблиця?\\nВідповідь: {answer3_2.shape}\\n')\n",
    "print(f'Який автор має найбільше книг?\\nВідповідь: {q_ty_by_author.name}\\n')\n",
    "print(f'Скільки книг цього автора?\\nВідповідь: {q_ty_by_author[\"count\"]}\\n')"
   ],
   "metadata": {
    "collapsed": false,
    "ExecuteTime": {
     "end_time": "2023-10-08T16:11:26.424871200Z",
     "start_time": "2023-10-08T16:11:26.379586200Z"
    }
   }
  },
  {
   "cell_type": "markdown",
   "source": [
    "### 3. Тепер створіть другий датафрейм, який буде вміщати середній рейтинг для кожного автора (використовуйте функції groupby та agg, для підрахунку середнього значення використовуйте mean). Не беріть усі стовпці, виберете тільки потрібні"
   ],
   "metadata": {
    "collapsed": false
   }
  },
  {
   "cell_type": "code",
   "execution_count": 90,
   "outputs": [
    {
     "name": "stdout",
     "output_type": "stream",
     "text": [
      "У якого автора середній рейтинг мінімальний?\n",
      "Відповідь: Donna Tartt\n",
      "\n",
      "Який у цього автора середній рейтинг?\n",
      "Відповідь: 3.9\n"
     ]
    }
   ],
   "source": [
    "answer3_3 = df.groupby('author')['user_rating'].agg(['mean'])\n",
    "lowest_avg_rating_author = answer3_3.sort_values(by='mean').iloc[0]\n",
    "print(f'У якого автора середній рейтинг мінімальний?\\nВідповідь: {lowest_avg_rating_author.name}\\n')\n",
    "print(f'Який у цього автора середній рейтинг?\\nВідповідь: {lowest_avg_rating_author[\"mean\"]}')"
   ],
   "metadata": {
    "collapsed": false,
    "ExecuteTime": {
     "end_time": "2023-10-08T16:11:26.663845600Z",
     "start_time": "2023-10-08T16:11:26.387097100Z"
    }
   }
  },
  {
   "cell_type": "markdown",
   "source": [
    "### 4. З'єднайте останні два датафрейми так, щоб для кожного автора було видно кількість книг та середній рейтинг (Використовуйте функцію concat з параметром axis=1). Збережіть результат у змінну"
   ],
   "metadata": {
    "collapsed": false
   }
  },
  {
   "cell_type": "code",
   "execution_count": 91,
   "outputs": [
    {
     "data": {
      "text/plain": "                            count  mean\nauthor                                 \nAbraham Verghese                2   4.6\nAdam Gasiewski                  1   4.4\nAdam Mansbach                   1   4.8\nAdir Levy                       1   4.8\nAdmiral William H. McRaven      1   4.7",
      "text/html": "<div>\n<style scoped>\n    .dataframe tbody tr th:only-of-type {\n        vertical-align: middle;\n    }\n\n    .dataframe tbody tr th {\n        vertical-align: top;\n    }\n\n    .dataframe thead th {\n        text-align: right;\n    }\n</style>\n<table border=\"1\" class=\"dataframe\">\n  <thead>\n    <tr style=\"text-align: right;\">\n      <th></th>\n      <th>count</th>\n      <th>mean</th>\n    </tr>\n    <tr>\n      <th>author</th>\n      <th></th>\n      <th></th>\n    </tr>\n  </thead>\n  <tbody>\n    <tr>\n      <th>Abraham Verghese</th>\n      <td>2</td>\n      <td>4.6</td>\n    </tr>\n    <tr>\n      <th>Adam Gasiewski</th>\n      <td>1</td>\n      <td>4.4</td>\n    </tr>\n    <tr>\n      <th>Adam Mansbach</th>\n      <td>1</td>\n      <td>4.8</td>\n    </tr>\n    <tr>\n      <th>Adir Levy</th>\n      <td>1</td>\n      <td>4.8</td>\n    </tr>\n    <tr>\n      <th>Admiral William H. McRaven</th>\n      <td>1</td>\n      <td>4.7</td>\n    </tr>\n  </tbody>\n</table>\n</div>"
     },
     "execution_count": 91,
     "metadata": {},
     "output_type": "execute_result"
    }
   ],
   "source": [
    "answer3_4 = pd.concat([answer3_2, answer3_3], axis=1)\n",
    "answer3_4.head()"
   ],
   "metadata": {
    "collapsed": false,
    "ExecuteTime": {
     "end_time": "2023-10-08T16:13:53.037194500Z",
     "start_time": "2023-10-08T16:13:53.011625200Z"
    }
   }
  },
  {
   "cell_type": "markdown",
   "source": [
    "### 5. Відсортуйте датафрейм за зростаючою кількістю книг та зростаючим рейтингом (використовуйте функцію sort_values)"
   ],
   "metadata": {
    "collapsed": false
   }
  },
  {
   "cell_type": "code",
   "execution_count": 106,
   "outputs": [
    {
     "name": "stdout",
     "output_type": "stream",
     "text": [
      "Який автор перший у списку?\n",
      "Відповідь: Muriel Barbery\n"
     ]
    }
   ],
   "source": [
    "answer3_5 = answer3_4.sort_values(by=['count', 'mean']).iloc[0].name\n",
    "print(f'Який автор перший у списку?\\nВідповідь: {answer3_5}')"
   ],
   "metadata": {
    "collapsed": false,
    "ExecuteTime": {
     "end_time": "2023-10-08T16:26:32.760935Z",
     "start_time": "2023-10-08T16:26:32.742966300Z"
    }
   }
  }
 ],
 "metadata": {
  "kernelspec": {
   "display_name": "Python 3",
   "language": "python",
   "name": "python3"
  },
  "language_info": {
   "codemirror_mode": {
    "name": "ipython",
    "version": 2
   },
   "file_extension": ".py",
   "mimetype": "text/x-python",
   "name": "python",
   "nbconvert_exporter": "python",
   "pygments_lexer": "ipython2",
   "version": "2.7.6"
  }
 },
 "nbformat": 4,
 "nbformat_minor": 0
}
